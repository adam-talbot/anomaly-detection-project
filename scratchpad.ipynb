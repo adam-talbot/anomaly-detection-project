{
 "cells": [
  {
   "cell_type": "markdown",
   "id": "38e69631-2683-4fcd-b53a-d4e689629b90",
   "metadata": {},
   "source": [
    "---\n",
    "# Anomaly Detection Project Scratchpad\n",
    "---"
   ]
  },
  {
   "cell_type": "markdown",
   "id": "c476ed20-a43f-472e-9828-905e8656df8b",
   "metadata": {},
   "source": [
    "## Imports\n",
    "---"
   ]
  },
  {
   "cell_type": "code",
   "execution_count": 1,
   "id": "631863f6-b7af-42ed-a0b7-2748cb15459b",
   "metadata": {},
   "outputs": [],
   "source": [
    "import matplotlib.pyplot as plt\n",
    "import numpy as np\n",
    "import pandas as pd\n",
    "import seaborn as sns\n",
    "# from sklearn import metrics\n",
    "import env\n",
    "\n",
    "import acquire as a\n",
    "import prepare as p"
   ]
  },
  {
   "cell_type": "markdown",
   "id": "d4b19639-1229-4f7f-ae2f-9b4f0d3765ee",
   "metadata": {},
   "source": [
    "---\n",
    "## Acquire\n",
    "---"
   ]
  },
  {
   "cell_type": "code",
   "execution_count": 2,
   "id": "8fbce7eb-8017-4d0f-b64a-9eab56d42fae",
   "metadata": {},
   "outputs": [],
   "source": [
    "# lets get the data\n",
    "df = a.get_log_data()"
   ]
  },
  {
   "cell_type": "code",
   "execution_count": 3,
   "id": "1a79621d-f1ec-43e2-a69f-fbe844ced4a0",
   "metadata": {},
   "outputs": [
    {
     "data": {
      "text/html": [
       "<div>\n",
       "<style scoped>\n",
       "    .dataframe tbody tr th:only-of-type {\n",
       "        vertical-align: middle;\n",
       "    }\n",
       "\n",
       "    .dataframe tbody tr th {\n",
       "        vertical-align: top;\n",
       "    }\n",
       "\n",
       "    .dataframe thead th {\n",
       "        text-align: right;\n",
       "    }\n",
       "</style>\n",
       "<table border=\"1\" class=\"dataframe\">\n",
       "  <thead>\n",
       "    <tr style=\"text-align: right;\">\n",
       "      <th></th>\n",
       "      <th>date</th>\n",
       "      <th>time</th>\n",
       "      <th>path</th>\n",
       "      <th>user_id</th>\n",
       "      <th>cohort_id</th>\n",
       "      <th>ip</th>\n",
       "      <th>id</th>\n",
       "      <th>name</th>\n",
       "      <th>slack</th>\n",
       "      <th>start_date</th>\n",
       "      <th>end_date</th>\n",
       "      <th>created_at</th>\n",
       "      <th>updated_at</th>\n",
       "      <th>deleted_at</th>\n",
       "      <th>program_id</th>\n",
       "    </tr>\n",
       "  </thead>\n",
       "  <tbody>\n",
       "    <tr>\n",
       "      <th>0</th>\n",
       "      <td>2018-01-26</td>\n",
       "      <td>09:55:03</td>\n",
       "      <td>/</td>\n",
       "      <td>1</td>\n",
       "      <td>8.0</td>\n",
       "      <td>97.105.19.61</td>\n",
       "      <td>8.0</td>\n",
       "      <td>Hampton</td>\n",
       "      <td>#hampton</td>\n",
       "      <td>2015-09-22</td>\n",
       "      <td>2016-02-06</td>\n",
       "      <td>2016-06-14 19:52:26</td>\n",
       "      <td>2016-06-14 19:52:26</td>\n",
       "      <td>NaN</td>\n",
       "      <td>1.0</td>\n",
       "    </tr>\n",
       "    <tr>\n",
       "      <th>1</th>\n",
       "      <td>2018-01-26</td>\n",
       "      <td>09:56:02</td>\n",
       "      <td>java-ii</td>\n",
       "      <td>1</td>\n",
       "      <td>8.0</td>\n",
       "      <td>97.105.19.61</td>\n",
       "      <td>8.0</td>\n",
       "      <td>Hampton</td>\n",
       "      <td>#hampton</td>\n",
       "      <td>2015-09-22</td>\n",
       "      <td>2016-02-06</td>\n",
       "      <td>2016-06-14 19:52:26</td>\n",
       "      <td>2016-06-14 19:52:26</td>\n",
       "      <td>NaN</td>\n",
       "      <td>1.0</td>\n",
       "    </tr>\n",
       "    <tr>\n",
       "      <th>2</th>\n",
       "      <td>2018-01-26</td>\n",
       "      <td>09:56:05</td>\n",
       "      <td>java-ii/object-oriented-programming</td>\n",
       "      <td>1</td>\n",
       "      <td>8.0</td>\n",
       "      <td>97.105.19.61</td>\n",
       "      <td>8.0</td>\n",
       "      <td>Hampton</td>\n",
       "      <td>#hampton</td>\n",
       "      <td>2015-09-22</td>\n",
       "      <td>2016-02-06</td>\n",
       "      <td>2016-06-14 19:52:26</td>\n",
       "      <td>2016-06-14 19:52:26</td>\n",
       "      <td>NaN</td>\n",
       "      <td>1.0</td>\n",
       "    </tr>\n",
       "    <tr>\n",
       "      <th>3</th>\n",
       "      <td>2018-01-26</td>\n",
       "      <td>09:56:06</td>\n",
       "      <td>slides/object_oriented_programming</td>\n",
       "      <td>1</td>\n",
       "      <td>8.0</td>\n",
       "      <td>97.105.19.61</td>\n",
       "      <td>8.0</td>\n",
       "      <td>Hampton</td>\n",
       "      <td>#hampton</td>\n",
       "      <td>2015-09-22</td>\n",
       "      <td>2016-02-06</td>\n",
       "      <td>2016-06-14 19:52:26</td>\n",
       "      <td>2016-06-14 19:52:26</td>\n",
       "      <td>NaN</td>\n",
       "      <td>1.0</td>\n",
       "    </tr>\n",
       "    <tr>\n",
       "      <th>4</th>\n",
       "      <td>2018-01-26</td>\n",
       "      <td>09:56:24</td>\n",
       "      <td>javascript-i/conditionals</td>\n",
       "      <td>2</td>\n",
       "      <td>22.0</td>\n",
       "      <td>97.105.19.61</td>\n",
       "      <td>22.0</td>\n",
       "      <td>Teddy</td>\n",
       "      <td>#teddy</td>\n",
       "      <td>2018-01-08</td>\n",
       "      <td>2018-05-17</td>\n",
       "      <td>2018-01-08 13:59:10</td>\n",
       "      <td>2018-01-08 13:59:10</td>\n",
       "      <td>NaN</td>\n",
       "      <td>2.0</td>\n",
       "    </tr>\n",
       "  </tbody>\n",
       "</table>\n",
       "</div>"
      ],
      "text/plain": [
       "         date      time                                 path  user_id  \\\n",
       "0  2018-01-26  09:55:03                                    /        1   \n",
       "1  2018-01-26  09:56:02                              java-ii        1   \n",
       "2  2018-01-26  09:56:05  java-ii/object-oriented-programming        1   \n",
       "3  2018-01-26  09:56:06   slides/object_oriented_programming        1   \n",
       "4  2018-01-26  09:56:24            javascript-i/conditionals        2   \n",
       "\n",
       "   cohort_id            ip    id     name     slack  start_date    end_date  \\\n",
       "0        8.0  97.105.19.61   8.0  Hampton  #hampton  2015-09-22  2016-02-06   \n",
       "1        8.0  97.105.19.61   8.0  Hampton  #hampton  2015-09-22  2016-02-06   \n",
       "2        8.0  97.105.19.61   8.0  Hampton  #hampton  2015-09-22  2016-02-06   \n",
       "3        8.0  97.105.19.61   8.0  Hampton  #hampton  2015-09-22  2016-02-06   \n",
       "4       22.0  97.105.19.61  22.0    Teddy    #teddy  2018-01-08  2018-05-17   \n",
       "\n",
       "            created_at           updated_at  deleted_at  program_id  \n",
       "0  2016-06-14 19:52:26  2016-06-14 19:52:26         NaN         1.0  \n",
       "1  2016-06-14 19:52:26  2016-06-14 19:52:26         NaN         1.0  \n",
       "2  2016-06-14 19:52:26  2016-06-14 19:52:26         NaN         1.0  \n",
       "3  2016-06-14 19:52:26  2016-06-14 19:52:26         NaN         1.0  \n",
       "4  2018-01-08 13:59:10  2018-01-08 13:59:10         NaN         2.0  "
      ]
     },
     "execution_count": 3,
     "metadata": {},
     "output_type": "execute_result"
    }
   ],
   "source": [
    "df.head()"
   ]
  },
  {
   "cell_type": "code",
   "execution_count": 4,
   "id": "31f7b66e-c91b-46f1-b6fe-cd31a4b922b9",
   "metadata": {},
   "outputs": [
    {
     "data": {
      "text/plain": [
       "(900223, 15)"
      ]
     },
     "execution_count": 4,
     "metadata": {},
     "output_type": "execute_result"
    }
   ],
   "source": [
    "df.shape"
   ]
  },
  {
   "cell_type": "code",
   "execution_count": 5,
   "id": "dd03cfc3-75c4-454b-88bf-4e5e28926a73",
   "metadata": {},
   "outputs": [
    {
     "name": "stdout",
     "output_type": "stream",
     "text": [
      "<class 'pandas.core.frame.DataFrame'>\n",
      "Int64Index: 900223 entries, 0 to 900222\n",
      "Data columns (total 15 columns):\n",
      " #   Column      Non-Null Count   Dtype  \n",
      "---  ------      --------------   -----  \n",
      " 0   date        900223 non-null  object \n",
      " 1   time        900223 non-null  object \n",
      " 2   path        900222 non-null  object \n",
      " 3   user_id     900223 non-null  int64  \n",
      " 4   cohort_id   847330 non-null  float64\n",
      " 5   ip          900223 non-null  object \n",
      " 6   id          847330 non-null  float64\n",
      " 7   name        847330 non-null  object \n",
      " 8   slack       847330 non-null  object \n",
      " 9   start_date  847330 non-null  object \n",
      " 10  end_date    847330 non-null  object \n",
      " 11  created_at  847330 non-null  object \n",
      " 12  updated_at  847330 non-null  object \n",
      " 13  deleted_at  0 non-null       float64\n",
      " 14  program_id  847330 non-null  float64\n",
      "dtypes: float64(4), int64(1), object(10)\n",
      "memory usage: 109.9+ MB\n"
     ]
    }
   ],
   "source": [
    "df.info()"
   ]
  },
  {
   "attachments": {
    "33fef404-fcc8-467c-bad1-49c40ced3160.png": {
     "image/png": "[encoded data removed]"
    }
   },
   "cell_type": "markdown",
   "id": "0e4c6ccc-94c1-467f-a885-2c8397341d3c",
   "metadata": {},
   "source": [
    "Initial Observations:\n",
    "- None of the dates are in datetime format, that needs to be corrected\n",
    "    - `date`, `time`, `start_date`, `end_date`, `created_at`, `updated_at`\n",
    "- The date of access needs to become index column, but I need to figure out how to merge the date and time columns info a single datetime index\n",
    "- The path column needs to be split out into several columns for future use \n",
    "    - Use Zach's function to do this and just make necessary changes for this path format\n",
    "- `user_id` is the unique identifier for each student\n",
    "- `cohort_id` and `id` should be the same since that is what I joined on and there should be some nulls somewhere since inner and left join produced different results\n",
    "    - Take a look at this before dropping one of the columns just to see what's going on\n",
    "    - These columns are currently both floats, so for whichever I decide to keep, I will most likely convert to integer\n",
    "- `ip` seems to be able to be left as-is\n",
    "    - Just need to be careful with this potentially sensitive data\n",
    "- `name` seems to be good as-is\n",
    "- `slack` not sure if this will be useful\n",
    "- `start_date` and `end_date` will allow us to determine if people are accessing the curriculum after they finish and what they are accessing\n",
    "    - If students are accessing curriculum before their start date, this is an issue since they shouldn't have access until they are granted access through github on the first week or so of class\n",
    "- `created_at` and `updated_at` columns seem to be just when the entry was created for the cohort identification table\n",
    "    - Probably won't be super useful\n",
    "    - Can see if any have been updated since dates seem to be mostly the same\n",
    "- `deleted_at`\n",
    "    - See if any were deleted\n",
    "    - If they were, I would wonder why\n",
    "- `program_id'\n",
    "    - This could be mapped to name of program\n",
    "        - Data Science, Web Dev, and then I would need to ask instructors what any other categories might mean\n",
    "        - ![image.png](attachment:33fef404-fcc8-467c-bad1-49c40ced3160.png)"
   ]
  },
  {
   "cell_type": "markdown",
   "id": "3fbad0bd-1855-49d2-8a79-81a0626ea489",
   "metadata": {},
   "source": [
    "---\n",
    "## Prepare/Get to know data\n",
    "---"
   ]
  },
  {
   "cell_type": "markdown",
   "id": "6c4ee28d-1dd7-4cbf-9b66-3f80d8bd81cb",
   "metadata": {},
   "source": [
    "### `date` and `time`"
   ]
  },
  {
   "cell_type": "code",
   "execution_count": 6,
   "id": "7fbcd60a-0d97-42c8-b7ba-4930efb0b807",
   "metadata": {},
   "outputs": [],
   "source": [
    "# add them together as strings\n",
    "df['date'] = df.date + ' ' + df.time"
   ]
  },
  {
   "cell_type": "code",
   "execution_count": 7,
   "id": "1fe0807f-a9e7-4c14-b020-2d74fb1f8b62",
   "metadata": {},
   "outputs": [],
   "source": [
    "# and then convert to datetime\n",
    "df.date = pd.to_datetime(df.date)"
   ]
  },
  {
   "cell_type": "code",
   "execution_count": 8,
   "id": "2766e361-77c0-483e-ab8f-dcfc39692a20",
   "metadata": {},
   "outputs": [],
   "source": [
    "# then covert this into index\n",
    "df = df.set_index(df.date)"
   ]
  },
  {
   "cell_type": "code",
   "execution_count": 9,
   "id": "8cb22068-656f-4a85-9f35-52e929073960",
   "metadata": {},
   "outputs": [],
   "source": [
    "# drop columns that have been converted to index\n",
    "df = df.drop(columns=['date', 'time'])"
   ]
  },
  {
   "cell_type": "markdown",
   "id": "da639058-6793-4e92-8c67-0fcf6eaa60ab",
   "metadata": {},
   "source": [
    "---\n",
    "### `path`"
   ]
  },
  {
   "cell_type": "code",
   "execution_count": 10,
   "id": "859de429-3523-4d6a-9435-b0de0f91a638",
   "metadata": {},
   "outputs": [
    {
     "data": {
      "text/html": [
       "<div>\n",
       "<style scoped>\n",
       "    .dataframe tbody tr th:only-of-type {\n",
       "        vertical-align: middle;\n",
       "    }\n",
       "\n",
       "    .dataframe tbody tr th {\n",
       "        vertical-align: top;\n",
       "    }\n",
       "\n",
       "    .dataframe thead th {\n",
       "        text-align: right;\n",
       "    }\n",
       "</style>\n",
       "<table border=\"1\" class=\"dataframe\">\n",
       "  <thead>\n",
       "    <tr style=\"text-align: right;\">\n",
       "      <th></th>\n",
       "      <th>path</th>\n",
       "      <th>user_id</th>\n",
       "      <th>cohort_id</th>\n",
       "      <th>ip</th>\n",
       "      <th>id</th>\n",
       "      <th>name</th>\n",
       "      <th>slack</th>\n",
       "      <th>start_date</th>\n",
       "      <th>end_date</th>\n",
       "      <th>created_at</th>\n",
       "      <th>updated_at</th>\n",
       "      <th>deleted_at</th>\n",
       "      <th>program_id</th>\n",
       "    </tr>\n",
       "    <tr>\n",
       "      <th>date</th>\n",
       "      <th></th>\n",
       "      <th></th>\n",
       "      <th></th>\n",
       "      <th></th>\n",
       "      <th></th>\n",
       "      <th></th>\n",
       "      <th></th>\n",
       "      <th></th>\n",
       "      <th></th>\n",
       "      <th></th>\n",
       "      <th></th>\n",
       "      <th></th>\n",
       "      <th></th>\n",
       "    </tr>\n",
       "  </thead>\n",
       "  <tbody>\n",
       "    <tr>\n",
       "      <th>2021-04-21 16:41:51</th>\n",
       "      <td>jquery/personal-site</td>\n",
       "      <td>64</td>\n",
       "      <td>28.0</td>\n",
       "      <td>71.150.217.33</td>\n",
       "      <td>28.0</td>\n",
       "      <td>Staff</td>\n",
       "      <td>#</td>\n",
       "      <td>2014-02-04</td>\n",
       "      <td>2014-02-04</td>\n",
       "      <td>2018-12-06 17:04:19</td>\n",
       "      <td>2018-12-06 17:04:19</td>\n",
       "      <td>NaN</td>\n",
       "      <td>2.0</td>\n",
       "    </tr>\n",
       "    <tr>\n",
       "      <th>2021-04-21 16:42:02</th>\n",
       "      <td>jquery/mapbox-api</td>\n",
       "      <td>64</td>\n",
       "      <td>28.0</td>\n",
       "      <td>71.150.217.33</td>\n",
       "      <td>28.0</td>\n",
       "      <td>Staff</td>\n",
       "      <td>#</td>\n",
       "      <td>2014-02-04</td>\n",
       "      <td>2014-02-04</td>\n",
       "      <td>2018-12-06 17:04:19</td>\n",
       "      <td>2018-12-06 17:04:19</td>\n",
       "      <td>NaN</td>\n",
       "      <td>2.0</td>\n",
       "    </tr>\n",
       "    <tr>\n",
       "      <th>2021-04-21 16:42:09</th>\n",
       "      <td>jquery/ajax/weather-map</td>\n",
       "      <td>64</td>\n",
       "      <td>28.0</td>\n",
       "      <td>71.150.217.33</td>\n",
       "      <td>28.0</td>\n",
       "      <td>Staff</td>\n",
       "      <td>#</td>\n",
       "      <td>2014-02-04</td>\n",
       "      <td>2014-02-04</td>\n",
       "      <td>2018-12-06 17:04:19</td>\n",
       "      <td>2018-12-06 17:04:19</td>\n",
       "      <td>NaN</td>\n",
       "      <td>2.0</td>\n",
       "    </tr>\n",
       "    <tr>\n",
       "      <th>2021-04-21 16:44:37</th>\n",
       "      <td>anomaly-detection/discrete-probabilistic-methods</td>\n",
       "      <td>744</td>\n",
       "      <td>28.0</td>\n",
       "      <td>24.160.137.86</td>\n",
       "      <td>28.0</td>\n",
       "      <td>Staff</td>\n",
       "      <td>#</td>\n",
       "      <td>2014-02-04</td>\n",
       "      <td>2014-02-04</td>\n",
       "      <td>2018-12-06 17:04:19</td>\n",
       "      <td>2018-12-06 17:04:19</td>\n",
       "      <td>NaN</td>\n",
       "      <td>2.0</td>\n",
       "    </tr>\n",
       "    <tr>\n",
       "      <th>2021-04-21 16:44:39</th>\n",
       "      <td>jquery/mapbox-api</td>\n",
       "      <td>64</td>\n",
       "      <td>28.0</td>\n",
       "      <td>71.150.217.33</td>\n",
       "      <td>28.0</td>\n",
       "      <td>Staff</td>\n",
       "      <td>#</td>\n",
       "      <td>2014-02-04</td>\n",
       "      <td>2014-02-04</td>\n",
       "      <td>2018-12-06 17:04:19</td>\n",
       "      <td>2018-12-06 17:04:19</td>\n",
       "      <td>NaN</td>\n",
       "      <td>2.0</td>\n",
       "    </tr>\n",
       "  </tbody>\n",
       "</table>\n",
       "</div>"
      ],
      "text/plain": [
       "                                                                 path  \\\n",
       "date                                                                    \n",
       "2021-04-21 16:41:51                              jquery/personal-site   \n",
       "2021-04-21 16:42:02                                 jquery/mapbox-api   \n",
       "2021-04-21 16:42:09                           jquery/ajax/weather-map   \n",
       "2021-04-21 16:44:37  anomaly-detection/discrete-probabilistic-methods   \n",
       "2021-04-21 16:44:39                                 jquery/mapbox-api   \n",
       "\n",
       "                     user_id  cohort_id             ip    id   name slack  \\\n",
       "date                                                                        \n",
       "2021-04-21 16:41:51       64       28.0  71.150.217.33  28.0  Staff     #   \n",
       "2021-04-21 16:42:02       64       28.0  71.150.217.33  28.0  Staff     #   \n",
       "2021-04-21 16:42:09       64       28.0  71.150.217.33  28.0  Staff     #   \n",
       "2021-04-21 16:44:37      744       28.0  24.160.137.86  28.0  Staff     #   \n",
       "2021-04-21 16:44:39       64       28.0  71.150.217.33  28.0  Staff     #   \n",
       "\n",
       "                     start_date    end_date           created_at  \\\n",
       "date                                                               \n",
       "2021-04-21 16:41:51  2014-02-04  2014-02-04  2018-12-06 17:04:19   \n",
       "2021-04-21 16:42:02  2014-02-04  2014-02-04  2018-12-06 17:04:19   \n",
       "2021-04-21 16:42:09  2014-02-04  2014-02-04  2018-12-06 17:04:19   \n",
       "2021-04-21 16:44:37  2014-02-04  2014-02-04  2018-12-06 17:04:19   \n",
       "2021-04-21 16:44:39  2014-02-04  2014-02-04  2018-12-06 17:04:19   \n",
       "\n",
       "                              updated_at  deleted_at  program_id  \n",
       "date                                                              \n",
       "2021-04-21 16:41:51  2018-12-06 17:04:19         NaN         2.0  \n",
       "2021-04-21 16:42:02  2018-12-06 17:04:19         NaN         2.0  \n",
       "2021-04-21 16:42:09  2018-12-06 17:04:19         NaN         2.0  \n",
       "2021-04-21 16:44:37  2018-12-06 17:04:19         NaN         2.0  \n",
       "2021-04-21 16:44:39  2018-12-06 17:04:19         NaN         2.0  "
      ]
     },
     "execution_count": 10,
     "metadata": {},
     "output_type": "execute_result"
    }
   ],
   "source": [
    "df.tail(5)"
   ]
  },
  {
   "cell_type": "markdown",
   "id": "85363665-a048-441f-99c6-8a392312f6f9",
   "metadata": {},
   "source": [
    "- Looks like most paths only have 2 parts, the section and the specific page\n",
    "- I do see some with 1 and 3 though\n",
    "- Is it even necessary to split up the path?\n",
    "    - Each current path points to a lesson, so it should be fine as-is\n",
    "- If I wanted to look at modules instead of lessons, I might need to split it out\n",
    "    - I will tackle that if I have enough time at the end"
   ]
  },
  {
   "cell_type": "code",
   "execution_count": 11,
   "id": "6c60546c-c5db-4f7e-b0c7-a70e27f82f9c",
   "metadata": {},
   "outputs": [
    {
     "data": {
      "text/plain": [
       "['java-ii', 'object-oriented-programming']"
      ]
     },
     "execution_count": 11,
     "metadata": {},
     "output_type": "execute_result"
    }
   ],
   "source": [
    "# split the path up into sections using the split string method and the \"/\" as the delimiter\n",
    "df.path[2].split('/') "
   ]
  },
  {
   "cell_type": "code",
   "execution_count": 12,
   "id": "3770a3e3-2098-421b-8aac-afced4ddf597",
   "metadata": {},
   "outputs": [
    {
     "data": {
      "text/plain": [
       "'java-ii/object-oriented-programming'"
      ]
     },
     "execution_count": 12,
     "metadata": {},
     "output_type": "execute_result"
    }
   ],
   "source": [
    "entry = df.path[2]\n",
    "entry"
   ]
  },
  {
   "cell_type": "code",
   "execution_count": 13,
   "id": "fa263410-d280-4074-9745-94ab77b1d610",
   "metadata": {},
   "outputs": [
    {
     "data": {
      "text/plain": [
       "['java-ii', 'object-oriented-programming']"
      ]
     },
     "execution_count": 13,
     "metadata": {},
     "output_type": "execute_result"
    }
   ],
   "source": [
    "parts = entry.split('/')\n",
    "parts"
   ]
  },
  {
   "cell_type": "code",
   "execution_count": 14,
   "id": "0746b218-bba7-4c96-822d-35606868093f",
   "metadata": {},
   "outputs": [],
   "source": [
    "output = {}"
   ]
  },
  {
   "cell_type": "code",
   "execution_count": 15,
   "id": "068ada5b-ac84-4aec-bfc6-6e707c023ea1",
   "metadata": {},
   "outputs": [
    {
     "data": {
      "text/plain": [
       "{'module': 'java-ii'}"
      ]
     },
     "execution_count": 15,
     "metadata": {},
     "output_type": "execute_result"
    }
   ],
   "source": [
    "output['module'] = parts[0]\n",
    "output"
   ]
  },
  {
   "cell_type": "code",
   "execution_count": 16,
   "id": "9dfb18a0-bde1-4f04-9d82-bc4ecb0f199b",
   "metadata": {},
   "outputs": [
    {
     "data": {
      "text/plain": [
       "{'module': 'java-ii', 'lesson': 'object-oriented-programming'}"
      ]
     },
     "execution_count": 16,
     "metadata": {},
     "output_type": "execute_result"
    }
   ],
   "source": [
    "output['lesson'] = parts[1]\n",
    "output"
   ]
  },
  {
   "cell_type": "code",
   "execution_count": 17,
   "id": "22b50f81-f194-4085-a432-810969619712",
   "metadata": {},
   "outputs": [],
   "source": [
    "# my first draft of a function to parse this thing\n",
    "def parse_path(entry):\n",
    "    parts = entry.split('/')\n",
    "    output = {}\n",
    "    output['module'] = parts[0]\n",
    "    output['lesson'] = parts[1]\n",
    "    if len(parts) > 2:\n",
    "        output['section'] = parts[1:]\n",
    "    return pd.Series(output)\n",
    "# this won't work in it's current state because some entries only have 1 item in the list\n",
    "# would need to either do some cleaning first or add more if statements"
   ]
  },
  {
   "cell_type": "code",
   "execution_count": 18,
   "id": "21103d6d-a2f8-49f2-803d-8af24a7be247",
   "metadata": {},
   "outputs": [],
   "source": [
    "# df = df.path.apply(parse_path)"
   ]
  },
  {
   "cell_type": "code",
   "execution_count": 19,
   "id": "645d529c-ab1c-4302-9654-539c1605b409",
   "metadata": {},
   "outputs": [],
   "source": [
    "# function to deal with parsing one entry in our log data\n",
    "def parse_log_entry(entry):\n",
    "    parts = entry.split()\n",
    "    output = {}\n",
    "    output['ip'] = parts[0]\n",
    "    output['timestamp'] = parts[3][1:].replace(':', ' ', 1)\n",
    "    output['request_method'] = parts[5][1:]\n",
    "    output['request_path'] = parts[6]\n",
    "    output['http_version'] = parts[7][:-1]\n",
    "    output['status_code'] = parts[8]\n",
    "    output['size'] = int(parts[9])\n",
    "    output['user_agent'] = ' '.join(parts[11:]).replace('\"', '')\n",
    "    return pd.Series(output)"
   ]
  },
  {
   "cell_type": "code",
   "execution_count": 20,
   "id": "f0c28cf8-50ba-4a4a-958a-c50650a113b3",
   "metadata": {},
   "outputs": [
    {
     "data": {
      "text/plain": [
       "/                                                                            50313\n",
       "search/search_index.json                                                     19519\n",
       "javascript-i                                                                 18983\n",
       "toc                                                                          18297\n",
       "java-iii                                                                     13733\n",
       "html-css                                                                     13635\n",
       "java-ii                                                                      12685\n",
       "spring                                                                       12524\n",
       "jquery                                                                       11525\n",
       "mysql                                                                        11033\n",
       "java-i                                                                       10865\n",
       "javascript-ii                                                                10730\n",
       "appendix                                                                      8308\n",
       "javascript-i/introduction/working-with-data-types-operators-and-variables     7642\n",
       "mysql/tables                                                                  7356\n",
       "javascript-i/javascript-with-html                                             7350\n",
       "javascript-i/functions                                                        7348\n",
       "html-css/elements                                                             7074\n",
       "mysql/databases                                                               6940\n",
       "java-iii/jsp-and-jstl                                                         6876\n",
       "javascript-i/loops                                                            6794\n",
       "java-iii/servlets                                                             6776\n",
       "html-css/css-ii/bootstrap-grid-system                                         6668\n",
       "javascript-i/conditionals                                                     6596\n",
       "mysql/users                                                                   6448\n",
       "java-ii/object-oriented-programming                                           6249\n",
       "java-i/syntax-types-and-variables                                             6246\n",
       "mysql/basic-statements                                                        6197\n",
       "html-css/css-ii/bootstrap-introduction                                        6171\n",
       "spring/fundamentals/views                                                     5994\n",
       "Name: path, dtype: int64"
      ]
     },
     "execution_count": 20,
     "metadata": {},
     "output_type": "execute_result"
    }
   ],
   "source": [
    "# find most commonly accessed part of the curriculum accross all cohorts\n",
    "df.path.value_counts().head(30)"
   ]
  },
  {
   "cell_type": "markdown",
   "id": "3cd2593f-10a4-4125-9875-35d28084d6c1",
   "metadata": {},
   "source": [
    "---\n",
    "### `user_id`"
   ]
  },
  {
   "cell_type": "code",
   "execution_count": 21,
   "id": "60c31d08-7c2d-40af-b275-2aeb80f21b94",
   "metadata": {},
   "outputs": [
    {
     "data": {
      "text/html": [
       "<div>\n",
       "<style scoped>\n",
       "    .dataframe tbody tr th:only-of-type {\n",
       "        vertical-align: middle;\n",
       "    }\n",
       "\n",
       "    .dataframe tbody tr th {\n",
       "        vertical-align: top;\n",
       "    }\n",
       "\n",
       "    .dataframe thead th {\n",
       "        text-align: right;\n",
       "    }\n",
       "</style>\n",
       "<table border=\"1\" class=\"dataframe\">\n",
       "  <thead>\n",
       "    <tr style=\"text-align: right;\">\n",
       "      <th></th>\n",
       "      <th>path</th>\n",
       "      <th>user_id</th>\n",
       "      <th>cohort_id</th>\n",
       "      <th>ip</th>\n",
       "      <th>id</th>\n",
       "      <th>name</th>\n",
       "      <th>slack</th>\n",
       "      <th>start_date</th>\n",
       "      <th>end_date</th>\n",
       "      <th>created_at</th>\n",
       "      <th>updated_at</th>\n",
       "      <th>deleted_at</th>\n",
       "      <th>program_id</th>\n",
       "    </tr>\n",
       "    <tr>\n",
       "      <th>date</th>\n",
       "      <th></th>\n",
       "      <th></th>\n",
       "      <th></th>\n",
       "      <th></th>\n",
       "      <th></th>\n",
       "      <th></th>\n",
       "      <th></th>\n",
       "      <th></th>\n",
       "      <th></th>\n",
       "      <th></th>\n",
       "      <th></th>\n",
       "      <th></th>\n",
       "      <th></th>\n",
       "    </tr>\n",
       "  </thead>\n",
       "  <tbody>\n",
       "    <tr>\n",
       "      <th>2018-01-26 09:55:03</th>\n",
       "      <td>/</td>\n",
       "      <td>1</td>\n",
       "      <td>8.0</td>\n",
       "      <td>97.105.19.61</td>\n",
       "      <td>8.0</td>\n",
       "      <td>Hampton</td>\n",
       "      <td>#hampton</td>\n",
       "      <td>2015-09-22</td>\n",
       "      <td>2016-02-06</td>\n",
       "      <td>2016-06-14 19:52:26</td>\n",
       "      <td>2016-06-14 19:52:26</td>\n",
       "      <td>NaN</td>\n",
       "      <td>1.0</td>\n",
       "    </tr>\n",
       "    <tr>\n",
       "      <th>2018-01-26 09:56:02</th>\n",
       "      <td>java-ii</td>\n",
       "      <td>1</td>\n",
       "      <td>8.0</td>\n",
       "      <td>97.105.19.61</td>\n",
       "      <td>8.0</td>\n",
       "      <td>Hampton</td>\n",
       "      <td>#hampton</td>\n",
       "      <td>2015-09-22</td>\n",
       "      <td>2016-02-06</td>\n",
       "      <td>2016-06-14 19:52:26</td>\n",
       "      <td>2016-06-14 19:52:26</td>\n",
       "      <td>NaN</td>\n",
       "      <td>1.0</td>\n",
       "    </tr>\n",
       "    <tr>\n",
       "      <th>2018-01-26 09:56:05</th>\n",
       "      <td>java-ii/object-oriented-programming</td>\n",
       "      <td>1</td>\n",
       "      <td>8.0</td>\n",
       "      <td>97.105.19.61</td>\n",
       "      <td>8.0</td>\n",
       "      <td>Hampton</td>\n",
       "      <td>#hampton</td>\n",
       "      <td>2015-09-22</td>\n",
       "      <td>2016-02-06</td>\n",
       "      <td>2016-06-14 19:52:26</td>\n",
       "      <td>2016-06-14 19:52:26</td>\n",
       "      <td>NaN</td>\n",
       "      <td>1.0</td>\n",
       "    </tr>\n",
       "    <tr>\n",
       "      <th>2018-01-26 09:56:06</th>\n",
       "      <td>slides/object_oriented_programming</td>\n",
       "      <td>1</td>\n",
       "      <td>8.0</td>\n",
       "      <td>97.105.19.61</td>\n",
       "      <td>8.0</td>\n",
       "      <td>Hampton</td>\n",
       "      <td>#hampton</td>\n",
       "      <td>2015-09-22</td>\n",
       "      <td>2016-02-06</td>\n",
       "      <td>2016-06-14 19:52:26</td>\n",
       "      <td>2016-06-14 19:52:26</td>\n",
       "      <td>NaN</td>\n",
       "      <td>1.0</td>\n",
       "    </tr>\n",
       "    <tr>\n",
       "      <th>2018-01-26 09:56:24</th>\n",
       "      <td>javascript-i/conditionals</td>\n",
       "      <td>2</td>\n",
       "      <td>22.0</td>\n",
       "      <td>97.105.19.61</td>\n",
       "      <td>22.0</td>\n",
       "      <td>Teddy</td>\n",
       "      <td>#teddy</td>\n",
       "      <td>2018-01-08</td>\n",
       "      <td>2018-05-17</td>\n",
       "      <td>2018-01-08 13:59:10</td>\n",
       "      <td>2018-01-08 13:59:10</td>\n",
       "      <td>NaN</td>\n",
       "      <td>2.0</td>\n",
       "    </tr>\n",
       "  </tbody>\n",
       "</table>\n",
       "</div>"
      ],
      "text/plain": [
       "                                                    path  user_id  cohort_id  \\\n",
       "date                                                                           \n",
       "2018-01-26 09:55:03                                    /        1        8.0   \n",
       "2018-01-26 09:56:02                              java-ii        1        8.0   \n",
       "2018-01-26 09:56:05  java-ii/object-oriented-programming        1        8.0   \n",
       "2018-01-26 09:56:06   slides/object_oriented_programming        1        8.0   \n",
       "2018-01-26 09:56:24            javascript-i/conditionals        2       22.0   \n",
       "\n",
       "                               ip    id     name     slack  start_date  \\\n",
       "date                                                                     \n",
       "2018-01-26 09:55:03  97.105.19.61   8.0  Hampton  #hampton  2015-09-22   \n",
       "2018-01-26 09:56:02  97.105.19.61   8.0  Hampton  #hampton  2015-09-22   \n",
       "2018-01-26 09:56:05  97.105.19.61   8.0  Hampton  #hampton  2015-09-22   \n",
       "2018-01-26 09:56:06  97.105.19.61   8.0  Hampton  #hampton  2015-09-22   \n",
       "2018-01-26 09:56:24  97.105.19.61  22.0    Teddy    #teddy  2018-01-08   \n",
       "\n",
       "                       end_date           created_at           updated_at  \\\n",
       "date                                                                        \n",
       "2018-01-26 09:55:03  2016-02-06  2016-06-14 19:52:26  2016-06-14 19:52:26   \n",
       "2018-01-26 09:56:02  2016-02-06  2016-06-14 19:52:26  2016-06-14 19:52:26   \n",
       "2018-01-26 09:56:05  2016-02-06  2016-06-14 19:52:26  2016-06-14 19:52:26   \n",
       "2018-01-26 09:56:06  2016-02-06  2016-06-14 19:52:26  2016-06-14 19:52:26   \n",
       "2018-01-26 09:56:24  2018-05-17  2018-01-08 13:59:10  2018-01-08 13:59:10   \n",
       "\n",
       "                     deleted_at  program_id  \n",
       "date                                         \n",
       "2018-01-26 09:55:03         NaN         1.0  \n",
       "2018-01-26 09:56:02         NaN         1.0  \n",
       "2018-01-26 09:56:05         NaN         1.0  \n",
       "2018-01-26 09:56:06         NaN         1.0  \n",
       "2018-01-26 09:56:24         NaN         2.0  "
      ]
     },
     "execution_count": 21,
     "metadata": {},
     "output_type": "execute_result"
    }
   ],
   "source": [
    "df.head()"
   ]
  },
  {
   "cell_type": "code",
   "execution_count": 22,
   "id": "3743d964-68ce-4fc8-9862-93e4cd809bdc",
   "metadata": {},
   "outputs": [
    {
     "data": {
      "text/plain": [
       "981"
      ]
     },
     "execution_count": 22,
     "metadata": {},
     "output_type": "execute_result"
    }
   ],
   "source": [
    "df.user_id.nunique()"
   ]
  },
  {
   "cell_type": "code",
   "execution_count": 23,
   "id": "f4e732b1-239f-46a9-b8db-ed335c39b3cf",
   "metadata": {},
   "outputs": [
    {
     "data": {
      "text/plain": [
       "user_id\n",
       "11     17913\n",
       "64     16347\n",
       "53     12329\n",
       "314     7783\n",
       "1       7404\n",
       "495     6451\n",
       "581     6434\n",
       "428     5897\n",
       "344     5460\n",
       "248     5075\n",
       "570     4584\n",
       "315     4510\n",
       "211     4227\n",
       "423     3804\n",
       "555     3687\n",
       "545     3528\n",
       "685     3522\n",
       "524     3512\n",
       "485     3268\n",
       "671     3241\n",
       "Name: path, dtype: int64"
      ]
     },
     "execution_count": 23,
     "metadata": {},
     "output_type": "execute_result"
    }
   ],
   "source": [
    "# who has accessed the curriculum the most?\n",
    "df.groupby('user_id').path.count().sort_values(ascending=False).head(20)\n",
    "# is this the correct way to use the groupby?\n",
    "# I am trying to just get number of requests made by each user and just chose a column to count arbitrarily since it seems that all columns returned the same count"
   ]
  },
  {
   "cell_type": "code",
   "execution_count": 24,
   "id": "8e98ef9d-7344-451f-8780-80a4ad2f49e0",
   "metadata": {},
   "outputs": [
    {
     "data": {
      "text/plain": [
       "11     17913\n",
       "64     16347\n",
       "53     12329\n",
       "314     7783\n",
       "1       7404\n",
       "495     6451\n",
       "581     6434\n",
       "428     5897\n",
       "344     5460\n",
       "248     5075\n",
       "570     4584\n",
       "315     4510\n",
       "211     4227\n",
       "423     3804\n",
       "555     3687\n",
       "545     3528\n",
       "685     3522\n",
       "524     3512\n",
       "485     3268\n",
       "671     3241\n",
       "Name: user_id, dtype: int64"
      ]
     },
     "execution_count": 24,
     "metadata": {},
     "output_type": "execute_result"
    }
   ],
   "source": [
    "# could do the same thing using value counts\n",
    "df.user_id.value_counts().head(20)"
   ]
  },
  {
   "cell_type": "markdown",
   "id": "8a5128c6-ebe7-45e6-be93-1bd2fe681404",
   "metadata": {},
   "source": [
    "- 981 unique users in this data, numbered from 1 to 981\n",
    "- Can easily see who is accessing the most using value counts\n",
    "    - Once `end_date` column is fixed, we can use the datetimes to filter data to only those who are accessing after graduation"
   ]
  },
  {
   "cell_type": "markdown",
   "id": "d3580fb2-3e9b-4e70-a777-b527e84a1d5a",
   "metadata": {},
   "source": [
    "---\n",
    "### `cohort_id` and `id`"
   ]
  },
  {
   "cell_type": "code",
   "execution_count": 25,
   "id": "89d30343-b234-49dc-b439-4e0cc9b2665b",
   "metadata": {},
   "outputs": [
    {
     "data": {
      "text/html": [
       "<div>\n",
       "<style scoped>\n",
       "    .dataframe tbody tr th:only-of-type {\n",
       "        vertical-align: middle;\n",
       "    }\n",
       "\n",
       "    .dataframe tbody tr th {\n",
       "        vertical-align: top;\n",
       "    }\n",
       "\n",
       "    .dataframe thead th {\n",
       "        text-align: right;\n",
       "    }\n",
       "</style>\n",
       "<table border=\"1\" class=\"dataframe\">\n",
       "  <thead>\n",
       "    <tr style=\"text-align: right;\">\n",
       "      <th></th>\n",
       "      <th>path</th>\n",
       "      <th>user_id</th>\n",
       "      <th>cohort_id</th>\n",
       "      <th>ip</th>\n",
       "      <th>id</th>\n",
       "      <th>name</th>\n",
       "      <th>slack</th>\n",
       "      <th>start_date</th>\n",
       "      <th>end_date</th>\n",
       "      <th>created_at</th>\n",
       "      <th>updated_at</th>\n",
       "      <th>deleted_at</th>\n",
       "      <th>program_id</th>\n",
       "    </tr>\n",
       "    <tr>\n",
       "      <th>date</th>\n",
       "      <th></th>\n",
       "      <th></th>\n",
       "      <th></th>\n",
       "      <th></th>\n",
       "      <th></th>\n",
       "      <th></th>\n",
       "      <th></th>\n",
       "      <th></th>\n",
       "      <th></th>\n",
       "      <th></th>\n",
       "      <th></th>\n",
       "      <th></th>\n",
       "      <th></th>\n",
       "    </tr>\n",
       "  </thead>\n",
       "  <tbody>\n",
       "    <tr>\n",
       "      <th>2018-01-26 09:55:03</th>\n",
       "      <td>/</td>\n",
       "      <td>1</td>\n",
       "      <td>8.0</td>\n",
       "      <td>97.105.19.61</td>\n",
       "      <td>8.0</td>\n",
       "      <td>Hampton</td>\n",
       "      <td>#hampton</td>\n",
       "      <td>2015-09-22</td>\n",
       "      <td>2016-02-06</td>\n",
       "      <td>2016-06-14 19:52:26</td>\n",
       "      <td>2016-06-14 19:52:26</td>\n",
       "      <td>NaN</td>\n",
       "      <td>1.0</td>\n",
       "    </tr>\n",
       "    <tr>\n",
       "      <th>2018-01-26 09:56:02</th>\n",
       "      <td>java-ii</td>\n",
       "      <td>1</td>\n",
       "      <td>8.0</td>\n",
       "      <td>97.105.19.61</td>\n",
       "      <td>8.0</td>\n",
       "      <td>Hampton</td>\n",
       "      <td>#hampton</td>\n",
       "      <td>2015-09-22</td>\n",
       "      <td>2016-02-06</td>\n",
       "      <td>2016-06-14 19:52:26</td>\n",
       "      <td>2016-06-14 19:52:26</td>\n",
       "      <td>NaN</td>\n",
       "      <td>1.0</td>\n",
       "    </tr>\n",
       "    <tr>\n",
       "      <th>2018-01-26 09:56:05</th>\n",
       "      <td>java-ii/object-oriented-programming</td>\n",
       "      <td>1</td>\n",
       "      <td>8.0</td>\n",
       "      <td>97.105.19.61</td>\n",
       "      <td>8.0</td>\n",
       "      <td>Hampton</td>\n",
       "      <td>#hampton</td>\n",
       "      <td>2015-09-22</td>\n",
       "      <td>2016-02-06</td>\n",
       "      <td>2016-06-14 19:52:26</td>\n",
       "      <td>2016-06-14 19:52:26</td>\n",
       "      <td>NaN</td>\n",
       "      <td>1.0</td>\n",
       "    </tr>\n",
       "    <tr>\n",
       "      <th>2018-01-26 09:56:06</th>\n",
       "      <td>slides/object_oriented_programming</td>\n",
       "      <td>1</td>\n",
       "      <td>8.0</td>\n",
       "      <td>97.105.19.61</td>\n",
       "      <td>8.0</td>\n",
       "      <td>Hampton</td>\n",
       "      <td>#hampton</td>\n",
       "      <td>2015-09-22</td>\n",
       "      <td>2016-02-06</td>\n",
       "      <td>2016-06-14 19:52:26</td>\n",
       "      <td>2016-06-14 19:52:26</td>\n",
       "      <td>NaN</td>\n",
       "      <td>1.0</td>\n",
       "    </tr>\n",
       "    <tr>\n",
       "      <th>2018-01-26 09:56:24</th>\n",
       "      <td>javascript-i/conditionals</td>\n",
       "      <td>2</td>\n",
       "      <td>22.0</td>\n",
       "      <td>97.105.19.61</td>\n",
       "      <td>22.0</td>\n",
       "      <td>Teddy</td>\n",
       "      <td>#teddy</td>\n",
       "      <td>2018-01-08</td>\n",
       "      <td>2018-05-17</td>\n",
       "      <td>2018-01-08 13:59:10</td>\n",
       "      <td>2018-01-08 13:59:10</td>\n",
       "      <td>NaN</td>\n",
       "      <td>2.0</td>\n",
       "    </tr>\n",
       "  </tbody>\n",
       "</table>\n",
       "</div>"
      ],
      "text/plain": [
       "                                                    path  user_id  cohort_id  \\\n",
       "date                                                                           \n",
       "2018-01-26 09:55:03                                    /        1        8.0   \n",
       "2018-01-26 09:56:02                              java-ii        1        8.0   \n",
       "2018-01-26 09:56:05  java-ii/object-oriented-programming        1        8.0   \n",
       "2018-01-26 09:56:06   slides/object_oriented_programming        1        8.0   \n",
       "2018-01-26 09:56:24            javascript-i/conditionals        2       22.0   \n",
       "\n",
       "                               ip    id     name     slack  start_date  \\\n",
       "date                                                                     \n",
       "2018-01-26 09:55:03  97.105.19.61   8.0  Hampton  #hampton  2015-09-22   \n",
       "2018-01-26 09:56:02  97.105.19.61   8.0  Hampton  #hampton  2015-09-22   \n",
       "2018-01-26 09:56:05  97.105.19.61   8.0  Hampton  #hampton  2015-09-22   \n",
       "2018-01-26 09:56:06  97.105.19.61   8.0  Hampton  #hampton  2015-09-22   \n",
       "2018-01-26 09:56:24  97.105.19.61  22.0    Teddy    #teddy  2018-01-08   \n",
       "\n",
       "                       end_date           created_at           updated_at  \\\n",
       "date                                                                        \n",
       "2018-01-26 09:55:03  2016-02-06  2016-06-14 19:52:26  2016-06-14 19:52:26   \n",
       "2018-01-26 09:56:02  2016-02-06  2016-06-14 19:52:26  2016-06-14 19:52:26   \n",
       "2018-01-26 09:56:05  2016-02-06  2016-06-14 19:52:26  2016-06-14 19:52:26   \n",
       "2018-01-26 09:56:06  2016-02-06  2016-06-14 19:52:26  2016-06-14 19:52:26   \n",
       "2018-01-26 09:56:24  2018-05-17  2018-01-08 13:59:10  2018-01-08 13:59:10   \n",
       "\n",
       "                     deleted_at  program_id  \n",
       "date                                         \n",
       "2018-01-26 09:55:03         NaN         1.0  \n",
       "2018-01-26 09:56:02         NaN         1.0  \n",
       "2018-01-26 09:56:05         NaN         1.0  \n",
       "2018-01-26 09:56:06         NaN         1.0  \n",
       "2018-01-26 09:56:24         NaN         2.0  "
      ]
     },
     "execution_count": 25,
     "metadata": {},
     "output_type": "execute_result"
    }
   ],
   "source": [
    "df.head()"
   ]
  },
  {
   "cell_type": "code",
   "execution_count": 26,
   "id": "0230d928-5a40-40ac-b7da-58cfda668a22",
   "metadata": {},
   "outputs": [
    {
     "data": {
      "text/plain": [
       "47"
      ]
     },
     "execution_count": 26,
     "metadata": {},
     "output_type": "execute_result"
    }
   ],
   "source": [
    "df.cohort_id.nunique()"
   ]
  },
  {
   "cell_type": "code",
   "execution_count": 27,
   "id": "c23935a7-3c84-42a9-b0f7-d499080f73ea",
   "metadata": {},
   "outputs": [
    {
     "data": {
      "text/plain": [
       "47"
      ]
     },
     "execution_count": 27,
     "metadata": {},
     "output_type": "execute_result"
    }
   ],
   "source": [
    "df.name.nunique()"
   ]
  },
  {
   "cell_type": "code",
   "execution_count": 28,
   "id": "48f84419-02e0-4bb3-8687-2a0478250d8c",
   "metadata": {},
   "outputs": [
    {
     "data": {
      "text/html": [
       "<div>\n",
       "<style scoped>\n",
       "    .dataframe tbody tr th:only-of-type {\n",
       "        vertical-align: middle;\n",
       "    }\n",
       "\n",
       "    .dataframe tbody tr th {\n",
       "        vertical-align: top;\n",
       "    }\n",
       "\n",
       "    .dataframe thead th {\n",
       "        text-align: right;\n",
       "    }\n",
       "</style>\n",
       "<table border=\"1\" class=\"dataframe\">\n",
       "  <thead>\n",
       "    <tr style=\"text-align: right;\">\n",
       "      <th></th>\n",
       "      <th>path</th>\n",
       "      <th>user_id</th>\n",
       "      <th>cohort_id</th>\n",
       "      <th>ip</th>\n",
       "      <th>id</th>\n",
       "      <th>name</th>\n",
       "      <th>slack</th>\n",
       "      <th>start_date</th>\n",
       "      <th>end_date</th>\n",
       "      <th>created_at</th>\n",
       "      <th>updated_at</th>\n",
       "      <th>deleted_at</th>\n",
       "      <th>program_id</th>\n",
       "    </tr>\n",
       "    <tr>\n",
       "      <th>date</th>\n",
       "      <th></th>\n",
       "      <th></th>\n",
       "      <th></th>\n",
       "      <th></th>\n",
       "      <th></th>\n",
       "      <th></th>\n",
       "      <th></th>\n",
       "      <th></th>\n",
       "      <th></th>\n",
       "      <th></th>\n",
       "      <th></th>\n",
       "      <th></th>\n",
       "      <th></th>\n",
       "    </tr>\n",
       "  </thead>\n",
       "  <tbody>\n",
       "    <tr>\n",
       "      <th>2018-01-26 16:46:16</th>\n",
       "      <td>/</td>\n",
       "      <td>48</td>\n",
       "      <td>NaN</td>\n",
       "      <td>97.105.19.61</td>\n",
       "      <td>NaN</td>\n",
       "      <td>NaN</td>\n",
       "      <td>NaN</td>\n",
       "      <td>NaN</td>\n",
       "      <td>NaN</td>\n",
       "      <td>NaN</td>\n",
       "      <td>NaN</td>\n",
       "      <td>NaN</td>\n",
       "      <td>NaN</td>\n",
       "    </tr>\n",
       "    <tr>\n",
       "      <th>2018-01-26 16:46:24</th>\n",
       "      <td>spring/extra-features/form-validation</td>\n",
       "      <td>48</td>\n",
       "      <td>NaN</td>\n",
       "      <td>97.105.19.61</td>\n",
       "      <td>NaN</td>\n",
       "      <td>NaN</td>\n",
       "      <td>NaN</td>\n",
       "      <td>NaN</td>\n",
       "      <td>NaN</td>\n",
       "      <td>NaN</td>\n",
       "      <td>NaN</td>\n",
       "      <td>NaN</td>\n",
       "      <td>NaN</td>\n",
       "    </tr>\n",
       "    <tr>\n",
       "      <th>2018-01-26 17:54:24</th>\n",
       "      <td>/</td>\n",
       "      <td>48</td>\n",
       "      <td>NaN</td>\n",
       "      <td>97.105.19.61</td>\n",
       "      <td>NaN</td>\n",
       "      <td>NaN</td>\n",
       "      <td>NaN</td>\n",
       "      <td>NaN</td>\n",
       "      <td>NaN</td>\n",
       "      <td>NaN</td>\n",
       "      <td>NaN</td>\n",
       "      <td>NaN</td>\n",
       "      <td>NaN</td>\n",
       "    </tr>\n",
       "    <tr>\n",
       "      <th>2018-01-26 18:32:03</th>\n",
       "      <td>/</td>\n",
       "      <td>48</td>\n",
       "      <td>NaN</td>\n",
       "      <td>97.105.19.61</td>\n",
       "      <td>NaN</td>\n",
       "      <td>NaN</td>\n",
       "      <td>NaN</td>\n",
       "      <td>NaN</td>\n",
       "      <td>NaN</td>\n",
       "      <td>NaN</td>\n",
       "      <td>NaN</td>\n",
       "      <td>NaN</td>\n",
       "      <td>NaN</td>\n",
       "    </tr>\n",
       "    <tr>\n",
       "      <th>2018-01-26 18:32:17</th>\n",
       "      <td>mysql/relationships/joins</td>\n",
       "      <td>48</td>\n",
       "      <td>NaN</td>\n",
       "      <td>97.105.19.61</td>\n",
       "      <td>NaN</td>\n",
       "      <td>NaN</td>\n",
       "      <td>NaN</td>\n",
       "      <td>NaN</td>\n",
       "      <td>NaN</td>\n",
       "      <td>NaN</td>\n",
       "      <td>NaN</td>\n",
       "      <td>NaN</td>\n",
       "      <td>NaN</td>\n",
       "    </tr>\n",
       "    <tr>\n",
       "      <th>...</th>\n",
       "      <td>...</td>\n",
       "      <td>...</td>\n",
       "      <td>...</td>\n",
       "      <td>...</td>\n",
       "      <td>...</td>\n",
       "      <td>...</td>\n",
       "      <td>...</td>\n",
       "      <td>...</td>\n",
       "      <td>...</td>\n",
       "      <td>...</td>\n",
       "      <td>...</td>\n",
       "      <td>...</td>\n",
       "      <td>...</td>\n",
       "    </tr>\n",
       "    <tr>\n",
       "      <th>2021-04-21 12:49:00</th>\n",
       "      <td>javascript-ii</td>\n",
       "      <td>717</td>\n",
       "      <td>NaN</td>\n",
       "      <td>136.50.102.126</td>\n",
       "      <td>NaN</td>\n",
       "      <td>NaN</td>\n",
       "      <td>NaN</td>\n",
       "      <td>NaN</td>\n",
       "      <td>NaN</td>\n",
       "      <td>NaN</td>\n",
       "      <td>NaN</td>\n",
       "      <td>NaN</td>\n",
       "      <td>NaN</td>\n",
       "    </tr>\n",
       "    <tr>\n",
       "      <th>2021-04-21 12:49:02</th>\n",
       "      <td>javascript-ii/es6</td>\n",
       "      <td>717</td>\n",
       "      <td>NaN</td>\n",
       "      <td>136.50.102.126</td>\n",
       "      <td>NaN</td>\n",
       "      <td>NaN</td>\n",
       "      <td>NaN</td>\n",
       "      <td>NaN</td>\n",
       "      <td>NaN</td>\n",
       "      <td>NaN</td>\n",
       "      <td>NaN</td>\n",
       "      <td>NaN</td>\n",
       "      <td>NaN</td>\n",
       "    </tr>\n",
       "    <tr>\n",
       "      <th>2021-04-21 12:51:27</th>\n",
       "      <td>javascript-ii/map-filter-reduce</td>\n",
       "      <td>717</td>\n",
       "      <td>NaN</td>\n",
       "      <td>136.50.102.126</td>\n",
       "      <td>NaN</td>\n",
       "      <td>NaN</td>\n",
       "      <td>NaN</td>\n",
       "      <td>NaN</td>\n",
       "      <td>NaN</td>\n",
       "      <td>NaN</td>\n",
       "      <td>NaN</td>\n",
       "      <td>NaN</td>\n",
       "      <td>NaN</td>\n",
       "    </tr>\n",
       "    <tr>\n",
       "      <th>2021-04-21 12:52:37</th>\n",
       "      <td>javascript-ii/promises</td>\n",
       "      <td>717</td>\n",
       "      <td>NaN</td>\n",
       "      <td>136.50.102.126</td>\n",
       "      <td>NaN</td>\n",
       "      <td>NaN</td>\n",
       "      <td>NaN</td>\n",
       "      <td>NaN</td>\n",
       "      <td>NaN</td>\n",
       "      <td>NaN</td>\n",
       "      <td>NaN</td>\n",
       "      <td>NaN</td>\n",
       "      <td>NaN</td>\n",
       "    </tr>\n",
       "    <tr>\n",
       "      <th>2021-04-21 12:56:26</th>\n",
       "      <td>javascript-ii/RESTful-api</td>\n",
       "      <td>717</td>\n",
       "      <td>NaN</td>\n",
       "      <td>136.50.102.126</td>\n",
       "      <td>NaN</td>\n",
       "      <td>NaN</td>\n",
       "      <td>NaN</td>\n",
       "      <td>NaN</td>\n",
       "      <td>NaN</td>\n",
       "      <td>NaN</td>\n",
       "      <td>NaN</td>\n",
       "      <td>NaN</td>\n",
       "      <td>NaN</td>\n",
       "    </tr>\n",
       "  </tbody>\n",
       "</table>\n",
       "<p>52893 rows × 13 columns</p>\n",
       "</div>"
      ],
      "text/plain": [
       "                                                      path  user_id  \\\n",
       "date                                                                  \n",
       "2018-01-26 16:46:16                                      /       48   \n",
       "2018-01-26 16:46:24  spring/extra-features/form-validation       48   \n",
       "2018-01-26 17:54:24                                      /       48   \n",
       "2018-01-26 18:32:03                                      /       48   \n",
       "2018-01-26 18:32:17              mysql/relationships/joins       48   \n",
       "...                                                    ...      ...   \n",
       "2021-04-21 12:49:00                          javascript-ii      717   \n",
       "2021-04-21 12:49:02                      javascript-ii/es6      717   \n",
       "2021-04-21 12:51:27        javascript-ii/map-filter-reduce      717   \n",
       "2021-04-21 12:52:37                 javascript-ii/promises      717   \n",
       "2021-04-21 12:56:26              javascript-ii/RESTful-api      717   \n",
       "\n",
       "                     cohort_id              ip  id name slack start_date  \\\n",
       "date                                                                       \n",
       "2018-01-26 16:46:16        NaN    97.105.19.61 NaN  NaN   NaN        NaN   \n",
       "2018-01-26 16:46:24        NaN    97.105.19.61 NaN  NaN   NaN        NaN   \n",
       "2018-01-26 17:54:24        NaN    97.105.19.61 NaN  NaN   NaN        NaN   \n",
       "2018-01-26 18:32:03        NaN    97.105.19.61 NaN  NaN   NaN        NaN   \n",
       "2018-01-26 18:32:17        NaN    97.105.19.61 NaN  NaN   NaN        NaN   \n",
       "...                        ...             ...  ..  ...   ...        ...   \n",
       "2021-04-21 12:49:00        NaN  136.50.102.126 NaN  NaN   NaN        NaN   \n",
       "2021-04-21 12:49:02        NaN  136.50.102.126 NaN  NaN   NaN        NaN   \n",
       "2021-04-21 12:51:27        NaN  136.50.102.126 NaN  NaN   NaN        NaN   \n",
       "2021-04-21 12:52:37        NaN  136.50.102.126 NaN  NaN   NaN        NaN   \n",
       "2021-04-21 12:56:26        NaN  136.50.102.126 NaN  NaN   NaN        NaN   \n",
       "\n",
       "                    end_date created_at updated_at  deleted_at  program_id  \n",
       "date                                                                        \n",
       "2018-01-26 16:46:16      NaN        NaN        NaN         NaN         NaN  \n",
       "2018-01-26 16:46:24      NaN        NaN        NaN         NaN         NaN  \n",
       "2018-01-26 17:54:24      NaN        NaN        NaN         NaN         NaN  \n",
       "2018-01-26 18:32:03      NaN        NaN        NaN         NaN         NaN  \n",
       "2018-01-26 18:32:17      NaN        NaN        NaN         NaN         NaN  \n",
       "...                      ...        ...        ...         ...         ...  \n",
       "2021-04-21 12:49:00      NaN        NaN        NaN         NaN         NaN  \n",
       "2021-04-21 12:49:02      NaN        NaN        NaN         NaN         NaN  \n",
       "2021-04-21 12:51:27      NaN        NaN        NaN         NaN         NaN  \n",
       "2021-04-21 12:52:37      NaN        NaN        NaN         NaN         NaN  \n",
       "2021-04-21 12:56:26      NaN        NaN        NaN         NaN         NaN  \n",
       "\n",
       "[52893 rows x 13 columns]"
      ]
     },
     "execution_count": 28,
     "metadata": {},
     "output_type": "execute_result"
    }
   ],
   "source": [
    "df[df.cohort_id != df.id]"
   ]
  },
  {
   "cell_type": "markdown",
   "id": "e8fdf423-c38e-4573-b00c-a47778f90a4a",
   "metadata": {},
   "source": [
    "- Looks like there are 52,893 rows in the original data where there was no cohort_id to join on\n",
    "    - These rows will be useful for overall analysis, but will not be helpful when looking at things on a cohort-level"
   ]
  },
  {
   "cell_type": "code",
   "execution_count": 29,
   "id": "6ee002a9-bab0-440e-b865-3ed69fe7c12b",
   "metadata": {},
   "outputs": [
    {
     "data": {
      "text/html": [
       "<div>\n",
       "<style scoped>\n",
       "    .dataframe tbody tr th:only-of-type {\n",
       "        vertical-align: middle;\n",
       "    }\n",
       "\n",
       "    .dataframe tbody tr th {\n",
       "        vertical-align: top;\n",
       "    }\n",
       "\n",
       "    .dataframe thead th {\n",
       "        text-align: right;\n",
       "    }\n",
       "</style>\n",
       "<table border=\"1\" class=\"dataframe\">\n",
       "  <thead>\n",
       "    <tr style=\"text-align: right;\">\n",
       "      <th></th>\n",
       "      <th>path</th>\n",
       "      <th>user_id</th>\n",
       "      <th>cohort_id</th>\n",
       "      <th>ip</th>\n",
       "      <th>id</th>\n",
       "      <th>name</th>\n",
       "      <th>slack</th>\n",
       "      <th>start_date</th>\n",
       "      <th>end_date</th>\n",
       "      <th>created_at</th>\n",
       "      <th>updated_at</th>\n",
       "      <th>deleted_at</th>\n",
       "      <th>program_id</th>\n",
       "    </tr>\n",
       "    <tr>\n",
       "      <th>date</th>\n",
       "      <th></th>\n",
       "      <th></th>\n",
       "      <th></th>\n",
       "      <th></th>\n",
       "      <th></th>\n",
       "      <th></th>\n",
       "      <th></th>\n",
       "      <th></th>\n",
       "      <th></th>\n",
       "      <th></th>\n",
       "      <th></th>\n",
       "      <th></th>\n",
       "      <th></th>\n",
       "    </tr>\n",
       "  </thead>\n",
       "  <tbody>\n",
       "    <tr>\n",
       "      <th>2018-01-26 16:46:16</th>\n",
       "      <td>/</td>\n",
       "      <td>48</td>\n",
       "      <td>NaN</td>\n",
       "      <td>97.105.19.61</td>\n",
       "      <td>NaN</td>\n",
       "      <td>NaN</td>\n",
       "      <td>NaN</td>\n",
       "      <td>NaN</td>\n",
       "      <td>NaN</td>\n",
       "      <td>NaN</td>\n",
       "      <td>NaN</td>\n",
       "      <td>NaN</td>\n",
       "      <td>NaN</td>\n",
       "    </tr>\n",
       "    <tr>\n",
       "      <th>2018-01-26 16:46:24</th>\n",
       "      <td>spring/extra-features/form-validation</td>\n",
       "      <td>48</td>\n",
       "      <td>NaN</td>\n",
       "      <td>97.105.19.61</td>\n",
       "      <td>NaN</td>\n",
       "      <td>NaN</td>\n",
       "      <td>NaN</td>\n",
       "      <td>NaN</td>\n",
       "      <td>NaN</td>\n",
       "      <td>NaN</td>\n",
       "      <td>NaN</td>\n",
       "      <td>NaN</td>\n",
       "      <td>NaN</td>\n",
       "    </tr>\n",
       "    <tr>\n",
       "      <th>2018-01-26 17:54:24</th>\n",
       "      <td>/</td>\n",
       "      <td>48</td>\n",
       "      <td>NaN</td>\n",
       "      <td>97.105.19.61</td>\n",
       "      <td>NaN</td>\n",
       "      <td>NaN</td>\n",
       "      <td>NaN</td>\n",
       "      <td>NaN</td>\n",
       "      <td>NaN</td>\n",
       "      <td>NaN</td>\n",
       "      <td>NaN</td>\n",
       "      <td>NaN</td>\n",
       "      <td>NaN</td>\n",
       "    </tr>\n",
       "    <tr>\n",
       "      <th>2018-01-26 18:32:03</th>\n",
       "      <td>/</td>\n",
       "      <td>48</td>\n",
       "      <td>NaN</td>\n",
       "      <td>97.105.19.61</td>\n",
       "      <td>NaN</td>\n",
       "      <td>NaN</td>\n",
       "      <td>NaN</td>\n",
       "      <td>NaN</td>\n",
       "      <td>NaN</td>\n",
       "      <td>NaN</td>\n",
       "      <td>NaN</td>\n",
       "      <td>NaN</td>\n",
       "      <td>NaN</td>\n",
       "    </tr>\n",
       "    <tr>\n",
       "      <th>2018-01-26 18:32:17</th>\n",
       "      <td>mysql/relationships/joins</td>\n",
       "      <td>48</td>\n",
       "      <td>NaN</td>\n",
       "      <td>97.105.19.61</td>\n",
       "      <td>NaN</td>\n",
       "      <td>NaN</td>\n",
       "      <td>NaN</td>\n",
       "      <td>NaN</td>\n",
       "      <td>NaN</td>\n",
       "      <td>NaN</td>\n",
       "      <td>NaN</td>\n",
       "      <td>NaN</td>\n",
       "      <td>NaN</td>\n",
       "    </tr>\n",
       "    <tr>\n",
       "      <th>...</th>\n",
       "      <td>...</td>\n",
       "      <td>...</td>\n",
       "      <td>...</td>\n",
       "      <td>...</td>\n",
       "      <td>...</td>\n",
       "      <td>...</td>\n",
       "      <td>...</td>\n",
       "      <td>...</td>\n",
       "      <td>...</td>\n",
       "      <td>...</td>\n",
       "      <td>...</td>\n",
       "      <td>...</td>\n",
       "      <td>...</td>\n",
       "    </tr>\n",
       "    <tr>\n",
       "      <th>2021-04-21 12:49:00</th>\n",
       "      <td>javascript-ii</td>\n",
       "      <td>717</td>\n",
       "      <td>NaN</td>\n",
       "      <td>136.50.102.126</td>\n",
       "      <td>NaN</td>\n",
       "      <td>NaN</td>\n",
       "      <td>NaN</td>\n",
       "      <td>NaN</td>\n",
       "      <td>NaN</td>\n",
       "      <td>NaN</td>\n",
       "      <td>NaN</td>\n",
       "      <td>NaN</td>\n",
       "      <td>NaN</td>\n",
       "    </tr>\n",
       "    <tr>\n",
       "      <th>2021-04-21 12:49:02</th>\n",
       "      <td>javascript-ii/es6</td>\n",
       "      <td>717</td>\n",
       "      <td>NaN</td>\n",
       "      <td>136.50.102.126</td>\n",
       "      <td>NaN</td>\n",
       "      <td>NaN</td>\n",
       "      <td>NaN</td>\n",
       "      <td>NaN</td>\n",
       "      <td>NaN</td>\n",
       "      <td>NaN</td>\n",
       "      <td>NaN</td>\n",
       "      <td>NaN</td>\n",
       "      <td>NaN</td>\n",
       "    </tr>\n",
       "    <tr>\n",
       "      <th>2021-04-21 12:51:27</th>\n",
       "      <td>javascript-ii/map-filter-reduce</td>\n",
       "      <td>717</td>\n",
       "      <td>NaN</td>\n",
       "      <td>136.50.102.126</td>\n",
       "      <td>NaN</td>\n",
       "      <td>NaN</td>\n",
       "      <td>NaN</td>\n",
       "      <td>NaN</td>\n",
       "      <td>NaN</td>\n",
       "      <td>NaN</td>\n",
       "      <td>NaN</td>\n",
       "      <td>NaN</td>\n",
       "      <td>NaN</td>\n",
       "    </tr>\n",
       "    <tr>\n",
       "      <th>2021-04-21 12:52:37</th>\n",
       "      <td>javascript-ii/promises</td>\n",
       "      <td>717</td>\n",
       "      <td>NaN</td>\n",
       "      <td>136.50.102.126</td>\n",
       "      <td>NaN</td>\n",
       "      <td>NaN</td>\n",
       "      <td>NaN</td>\n",
       "      <td>NaN</td>\n",
       "      <td>NaN</td>\n",
       "      <td>NaN</td>\n",
       "      <td>NaN</td>\n",
       "      <td>NaN</td>\n",
       "      <td>NaN</td>\n",
       "    </tr>\n",
       "    <tr>\n",
       "      <th>2021-04-21 12:56:26</th>\n",
       "      <td>javascript-ii/RESTful-api</td>\n",
       "      <td>717</td>\n",
       "      <td>NaN</td>\n",
       "      <td>136.50.102.126</td>\n",
       "      <td>NaN</td>\n",
       "      <td>NaN</td>\n",
       "      <td>NaN</td>\n",
       "      <td>NaN</td>\n",
       "      <td>NaN</td>\n",
       "      <td>NaN</td>\n",
       "      <td>NaN</td>\n",
       "      <td>NaN</td>\n",
       "      <td>NaN</td>\n",
       "    </tr>\n",
       "  </tbody>\n",
       "</table>\n",
       "<p>52893 rows × 13 columns</p>\n",
       "</div>"
      ],
      "text/plain": [
       "                                                      path  user_id  \\\n",
       "date                                                                  \n",
       "2018-01-26 16:46:16                                      /       48   \n",
       "2018-01-26 16:46:24  spring/extra-features/form-validation       48   \n",
       "2018-01-26 17:54:24                                      /       48   \n",
       "2018-01-26 18:32:03                                      /       48   \n",
       "2018-01-26 18:32:17              mysql/relationships/joins       48   \n",
       "...                                                    ...      ...   \n",
       "2021-04-21 12:49:00                          javascript-ii      717   \n",
       "2021-04-21 12:49:02                      javascript-ii/es6      717   \n",
       "2021-04-21 12:51:27        javascript-ii/map-filter-reduce      717   \n",
       "2021-04-21 12:52:37                 javascript-ii/promises      717   \n",
       "2021-04-21 12:56:26              javascript-ii/RESTful-api      717   \n",
       "\n",
       "                     cohort_id              ip  id name slack start_date  \\\n",
       "date                                                                       \n",
       "2018-01-26 16:46:16        NaN    97.105.19.61 NaN  NaN   NaN        NaN   \n",
       "2018-01-26 16:46:24        NaN    97.105.19.61 NaN  NaN   NaN        NaN   \n",
       "2018-01-26 17:54:24        NaN    97.105.19.61 NaN  NaN   NaN        NaN   \n",
       "2018-01-26 18:32:03        NaN    97.105.19.61 NaN  NaN   NaN        NaN   \n",
       "2018-01-26 18:32:17        NaN    97.105.19.61 NaN  NaN   NaN        NaN   \n",
       "...                        ...             ...  ..  ...   ...        ...   \n",
       "2021-04-21 12:49:00        NaN  136.50.102.126 NaN  NaN   NaN        NaN   \n",
       "2021-04-21 12:49:02        NaN  136.50.102.126 NaN  NaN   NaN        NaN   \n",
       "2021-04-21 12:51:27        NaN  136.50.102.126 NaN  NaN   NaN        NaN   \n",
       "2021-04-21 12:52:37        NaN  136.50.102.126 NaN  NaN   NaN        NaN   \n",
       "2021-04-21 12:56:26        NaN  136.50.102.126 NaN  NaN   NaN        NaN   \n",
       "\n",
       "                    end_date created_at updated_at  deleted_at  program_id  \n",
       "date                                                                        \n",
       "2018-01-26 16:46:16      NaN        NaN        NaN         NaN         NaN  \n",
       "2018-01-26 16:46:24      NaN        NaN        NaN         NaN         NaN  \n",
       "2018-01-26 17:54:24      NaN        NaN        NaN         NaN         NaN  \n",
       "2018-01-26 18:32:03      NaN        NaN        NaN         NaN         NaN  \n",
       "2018-01-26 18:32:17      NaN        NaN        NaN         NaN         NaN  \n",
       "...                      ...        ...        ...         ...         ...  \n",
       "2021-04-21 12:49:00      NaN        NaN        NaN         NaN         NaN  \n",
       "2021-04-21 12:49:02      NaN        NaN        NaN         NaN         NaN  \n",
       "2021-04-21 12:51:27      NaN        NaN        NaN         NaN         NaN  \n",
       "2021-04-21 12:52:37      NaN        NaN        NaN         NaN         NaN  \n",
       "2021-04-21 12:56:26      NaN        NaN        NaN         NaN         NaN  \n",
       "\n",
       "[52893 rows x 13 columns]"
      ]
     },
     "execution_count": 29,
     "metadata": {},
     "output_type": "execute_result"
    }
   ],
   "source": [
    "df[df.cohort_id.isna() == True]"
   ]
  },
  {
   "cell_type": "code",
   "execution_count": 30,
   "id": "b35a2fe7-b74d-46c9-b4fe-f246c140463e",
   "metadata": {},
   "outputs": [
    {
     "data": {
      "text/html": [
       "<div>\n",
       "<style scoped>\n",
       "    .dataframe tbody tr th:only-of-type {\n",
       "        vertical-align: middle;\n",
       "    }\n",
       "\n",
       "    .dataframe tbody tr th {\n",
       "        vertical-align: top;\n",
       "    }\n",
       "\n",
       "    .dataframe thead th {\n",
       "        text-align: right;\n",
       "    }\n",
       "</style>\n",
       "<table border=\"1\" class=\"dataframe\">\n",
       "  <thead>\n",
       "    <tr style=\"text-align: right;\">\n",
       "      <th></th>\n",
       "      <th>path</th>\n",
       "      <th>user_id</th>\n",
       "      <th>cohort_id</th>\n",
       "      <th>ip</th>\n",
       "      <th>id</th>\n",
       "      <th>name</th>\n",
       "      <th>slack</th>\n",
       "      <th>start_date</th>\n",
       "      <th>end_date</th>\n",
       "      <th>created_at</th>\n",
       "      <th>updated_at</th>\n",
       "      <th>deleted_at</th>\n",
       "      <th>program_id</th>\n",
       "    </tr>\n",
       "    <tr>\n",
       "      <th>date</th>\n",
       "      <th></th>\n",
       "      <th></th>\n",
       "      <th></th>\n",
       "      <th></th>\n",
       "      <th></th>\n",
       "      <th></th>\n",
       "      <th></th>\n",
       "      <th></th>\n",
       "      <th></th>\n",
       "      <th></th>\n",
       "      <th></th>\n",
       "      <th></th>\n",
       "      <th></th>\n",
       "    </tr>\n",
       "  </thead>\n",
       "  <tbody>\n",
       "    <tr>\n",
       "      <th>2018-01-26 16:46:16</th>\n",
       "      <td>/</td>\n",
       "      <td>48</td>\n",
       "      <td>NaN</td>\n",
       "      <td>97.105.19.61</td>\n",
       "      <td>NaN</td>\n",
       "      <td>NaN</td>\n",
       "      <td>NaN</td>\n",
       "      <td>NaN</td>\n",
       "      <td>NaN</td>\n",
       "      <td>NaN</td>\n",
       "      <td>NaN</td>\n",
       "      <td>NaN</td>\n",
       "      <td>NaN</td>\n",
       "    </tr>\n",
       "    <tr>\n",
       "      <th>2018-01-26 16:46:24</th>\n",
       "      <td>spring/extra-features/form-validation</td>\n",
       "      <td>48</td>\n",
       "      <td>NaN</td>\n",
       "      <td>97.105.19.61</td>\n",
       "      <td>NaN</td>\n",
       "      <td>NaN</td>\n",
       "      <td>NaN</td>\n",
       "      <td>NaN</td>\n",
       "      <td>NaN</td>\n",
       "      <td>NaN</td>\n",
       "      <td>NaN</td>\n",
       "      <td>NaN</td>\n",
       "      <td>NaN</td>\n",
       "    </tr>\n",
       "    <tr>\n",
       "      <th>2018-01-26 17:54:24</th>\n",
       "      <td>/</td>\n",
       "      <td>48</td>\n",
       "      <td>NaN</td>\n",
       "      <td>97.105.19.61</td>\n",
       "      <td>NaN</td>\n",
       "      <td>NaN</td>\n",
       "      <td>NaN</td>\n",
       "      <td>NaN</td>\n",
       "      <td>NaN</td>\n",
       "      <td>NaN</td>\n",
       "      <td>NaN</td>\n",
       "      <td>NaN</td>\n",
       "      <td>NaN</td>\n",
       "    </tr>\n",
       "    <tr>\n",
       "      <th>2018-01-26 18:32:03</th>\n",
       "      <td>/</td>\n",
       "      <td>48</td>\n",
       "      <td>NaN</td>\n",
       "      <td>97.105.19.61</td>\n",
       "      <td>NaN</td>\n",
       "      <td>NaN</td>\n",
       "      <td>NaN</td>\n",
       "      <td>NaN</td>\n",
       "      <td>NaN</td>\n",
       "      <td>NaN</td>\n",
       "      <td>NaN</td>\n",
       "      <td>NaN</td>\n",
       "      <td>NaN</td>\n",
       "    </tr>\n",
       "    <tr>\n",
       "      <th>2018-01-26 18:32:17</th>\n",
       "      <td>mysql/relationships/joins</td>\n",
       "      <td>48</td>\n",
       "      <td>NaN</td>\n",
       "      <td>97.105.19.61</td>\n",
       "      <td>NaN</td>\n",
       "      <td>NaN</td>\n",
       "      <td>NaN</td>\n",
       "      <td>NaN</td>\n",
       "      <td>NaN</td>\n",
       "      <td>NaN</td>\n",
       "      <td>NaN</td>\n",
       "      <td>NaN</td>\n",
       "      <td>NaN</td>\n",
       "    </tr>\n",
       "    <tr>\n",
       "      <th>...</th>\n",
       "      <td>...</td>\n",
       "      <td>...</td>\n",
       "      <td>...</td>\n",
       "      <td>...</td>\n",
       "      <td>...</td>\n",
       "      <td>...</td>\n",
       "      <td>...</td>\n",
       "      <td>...</td>\n",
       "      <td>...</td>\n",
       "      <td>...</td>\n",
       "      <td>...</td>\n",
       "      <td>...</td>\n",
       "      <td>...</td>\n",
       "    </tr>\n",
       "    <tr>\n",
       "      <th>2021-04-21 12:49:00</th>\n",
       "      <td>javascript-ii</td>\n",
       "      <td>717</td>\n",
       "      <td>NaN</td>\n",
       "      <td>136.50.102.126</td>\n",
       "      <td>NaN</td>\n",
       "      <td>NaN</td>\n",
       "      <td>NaN</td>\n",
       "      <td>NaN</td>\n",
       "      <td>NaN</td>\n",
       "      <td>NaN</td>\n",
       "      <td>NaN</td>\n",
       "      <td>NaN</td>\n",
       "      <td>NaN</td>\n",
       "    </tr>\n",
       "    <tr>\n",
       "      <th>2021-04-21 12:49:02</th>\n",
       "      <td>javascript-ii/es6</td>\n",
       "      <td>717</td>\n",
       "      <td>NaN</td>\n",
       "      <td>136.50.102.126</td>\n",
       "      <td>NaN</td>\n",
       "      <td>NaN</td>\n",
       "      <td>NaN</td>\n",
       "      <td>NaN</td>\n",
       "      <td>NaN</td>\n",
       "      <td>NaN</td>\n",
       "      <td>NaN</td>\n",
       "      <td>NaN</td>\n",
       "      <td>NaN</td>\n",
       "    </tr>\n",
       "    <tr>\n",
       "      <th>2021-04-21 12:51:27</th>\n",
       "      <td>javascript-ii/map-filter-reduce</td>\n",
       "      <td>717</td>\n",
       "      <td>NaN</td>\n",
       "      <td>136.50.102.126</td>\n",
       "      <td>NaN</td>\n",
       "      <td>NaN</td>\n",
       "      <td>NaN</td>\n",
       "      <td>NaN</td>\n",
       "      <td>NaN</td>\n",
       "      <td>NaN</td>\n",
       "      <td>NaN</td>\n",
       "      <td>NaN</td>\n",
       "      <td>NaN</td>\n",
       "    </tr>\n",
       "    <tr>\n",
       "      <th>2021-04-21 12:52:37</th>\n",
       "      <td>javascript-ii/promises</td>\n",
       "      <td>717</td>\n",
       "      <td>NaN</td>\n",
       "      <td>136.50.102.126</td>\n",
       "      <td>NaN</td>\n",
       "      <td>NaN</td>\n",
       "      <td>NaN</td>\n",
       "      <td>NaN</td>\n",
       "      <td>NaN</td>\n",
       "      <td>NaN</td>\n",
       "      <td>NaN</td>\n",
       "      <td>NaN</td>\n",
       "      <td>NaN</td>\n",
       "    </tr>\n",
       "    <tr>\n",
       "      <th>2021-04-21 12:56:26</th>\n",
       "      <td>javascript-ii/RESTful-api</td>\n",
       "      <td>717</td>\n",
       "      <td>NaN</td>\n",
       "      <td>136.50.102.126</td>\n",
       "      <td>NaN</td>\n",
       "      <td>NaN</td>\n",
       "      <td>NaN</td>\n",
       "      <td>NaN</td>\n",
       "      <td>NaN</td>\n",
       "      <td>NaN</td>\n",
       "      <td>NaN</td>\n",
       "      <td>NaN</td>\n",
       "      <td>NaN</td>\n",
       "    </tr>\n",
       "  </tbody>\n",
       "</table>\n",
       "<p>52893 rows × 13 columns</p>\n",
       "</div>"
      ],
      "text/plain": [
       "                                                      path  user_id  \\\n",
       "date                                                                  \n",
       "2018-01-26 16:46:16                                      /       48   \n",
       "2018-01-26 16:46:24  spring/extra-features/form-validation       48   \n",
       "2018-01-26 17:54:24                                      /       48   \n",
       "2018-01-26 18:32:03                                      /       48   \n",
       "2018-01-26 18:32:17              mysql/relationships/joins       48   \n",
       "...                                                    ...      ...   \n",
       "2021-04-21 12:49:00                          javascript-ii      717   \n",
       "2021-04-21 12:49:02                      javascript-ii/es6      717   \n",
       "2021-04-21 12:51:27        javascript-ii/map-filter-reduce      717   \n",
       "2021-04-21 12:52:37                 javascript-ii/promises      717   \n",
       "2021-04-21 12:56:26              javascript-ii/RESTful-api      717   \n",
       "\n",
       "                     cohort_id              ip  id name slack start_date  \\\n",
       "date                                                                       \n",
       "2018-01-26 16:46:16        NaN    97.105.19.61 NaN  NaN   NaN        NaN   \n",
       "2018-01-26 16:46:24        NaN    97.105.19.61 NaN  NaN   NaN        NaN   \n",
       "2018-01-26 17:54:24        NaN    97.105.19.61 NaN  NaN   NaN        NaN   \n",
       "2018-01-26 18:32:03        NaN    97.105.19.61 NaN  NaN   NaN        NaN   \n",
       "2018-01-26 18:32:17        NaN    97.105.19.61 NaN  NaN   NaN        NaN   \n",
       "...                        ...             ...  ..  ...   ...        ...   \n",
       "2021-04-21 12:49:00        NaN  136.50.102.126 NaN  NaN   NaN        NaN   \n",
       "2021-04-21 12:49:02        NaN  136.50.102.126 NaN  NaN   NaN        NaN   \n",
       "2021-04-21 12:51:27        NaN  136.50.102.126 NaN  NaN   NaN        NaN   \n",
       "2021-04-21 12:52:37        NaN  136.50.102.126 NaN  NaN   NaN        NaN   \n",
       "2021-04-21 12:56:26        NaN  136.50.102.126 NaN  NaN   NaN        NaN   \n",
       "\n",
       "                    end_date created_at updated_at  deleted_at  program_id  \n",
       "date                                                                        \n",
       "2018-01-26 16:46:16      NaN        NaN        NaN         NaN         NaN  \n",
       "2018-01-26 16:46:24      NaN        NaN        NaN         NaN         NaN  \n",
       "2018-01-26 17:54:24      NaN        NaN        NaN         NaN         NaN  \n",
       "2018-01-26 18:32:03      NaN        NaN        NaN         NaN         NaN  \n",
       "2018-01-26 18:32:17      NaN        NaN        NaN         NaN         NaN  \n",
       "...                      ...        ...        ...         ...         ...  \n",
       "2021-04-21 12:49:00      NaN        NaN        NaN         NaN         NaN  \n",
       "2021-04-21 12:49:02      NaN        NaN        NaN         NaN         NaN  \n",
       "2021-04-21 12:51:27      NaN        NaN        NaN         NaN         NaN  \n",
       "2021-04-21 12:52:37      NaN        NaN        NaN         NaN         NaN  \n",
       "2021-04-21 12:56:26      NaN        NaN        NaN         NaN         NaN  \n",
       "\n",
       "[52893 rows x 13 columns]"
      ]
     },
     "execution_count": 30,
     "metadata": {},
     "output_type": "execute_result"
    }
   ],
   "source": [
    "df[df.id.isna() == True]"
   ]
  },
  {
   "cell_type": "code",
   "execution_count": 31,
   "id": "2cf824d1-7d44-4b3c-977c-63e2a758a39f",
   "metadata": {},
   "outputs": [],
   "source": [
    "# let's drop the id column since these two columns look identical\n",
    "df = df.drop(columns='id')"
   ]
  },
  {
   "cell_type": "code",
   "execution_count": 32,
   "id": "e51a1d3f-f70f-47ae-8cec-4a7a5db53041",
   "metadata": {},
   "outputs": [],
   "source": [
    "# we can also drop the cohort_id column since they are all mapped to names at this point via the merge\n",
    "df = df.drop(columns='cohort_id')"
   ]
  },
  {
   "cell_type": "markdown",
   "id": "ed86fab0-4e90-474f-a6a5-3bbb9370ea0f",
   "metadata": {},
   "source": [
    "---\n",
    "### `ip`"
   ]
  },
  {
   "cell_type": "code",
   "execution_count": 33,
   "id": "a4e674b1-74b5-4675-8b9a-d911dbe45ffd",
   "metadata": {},
   "outputs": [
    {
     "data": {
      "text/plain": [
       "97.105.19.58       284579\n",
       "97.105.19.61        61662\n",
       "192.171.117.210      9515\n",
       "71.150.217.33        6791\n",
       "76.185.145.231       4754\n",
       "12.106.208.194       4360\n",
       "67.11.50.23          4181\n",
       "70.112.179.142       4117\n",
       "70.121.183.95        3843\n",
       "172.124.67.93        3511\n",
       "Name: ip, dtype: int64"
      ]
     },
     "execution_count": 33,
     "metadata": {},
     "output_type": "execute_result"
    }
   ],
   "source": [
    "df.ip.value_counts().head(10)"
   ]
  },
  {
   "cell_type": "markdown",
   "id": "886a550f-5a4d-4bca-817f-ae4504cb4ab8",
   "metadata": {},
   "source": [
    "- 5531 different ip addresses\n",
    "- Top 2 look like they must be associated with Codeup campus"
   ]
  },
  {
   "cell_type": "code",
   "execution_count": 34,
   "id": "a3682367-5deb-41a7-91ae-ee70da373b97",
   "metadata": {},
   "outputs": [
    {
     "data": {
      "text/plain": [
       "0"
      ]
     },
     "execution_count": 34,
     "metadata": {},
     "output_type": "execute_result"
    }
   ],
   "source": [
    "df.ip.isnull().sum()"
   ]
  },
  {
   "cell_type": "markdown",
   "id": "8280b46c-fe53-4c61-b308-b8638321fa64",
   "metadata": {},
   "source": [
    "---\n",
    "### `name`"
   ]
  },
  {
   "cell_type": "code",
   "execution_count": 35,
   "id": "e5aebfe4-6263-45b3-8f5b-10ebee8c0347",
   "metadata": {},
   "outputs": [
    {
     "data": {
      "text/plain": [
       "Staff         84031\n",
       "Ceres         40730\n",
       "Zion          38096\n",
       "Jupiter       37109\n",
       "Fortuna       36902\n",
       "Voyageurs     35636\n",
       "Ganymede      33844\n",
       "Apex          33568\n",
       "Deimos        32888\n",
       "Darden        32015\n",
       "Teddy         30926\n",
       "Hyperion      29855\n",
       "Betelgeuse    29356\n",
       "Ulysses       28534\n",
       "Europa        28033\n",
       "Xanadu        27749\n",
       "Bayes         26538\n",
       "Wrangell      25586\n",
       "Andromeda     25359\n",
       "Kalypso       23691\n",
       "Curie         21582\n",
       "Yosemite      20743\n",
       "Bash          17713\n",
       "Luna          16623\n",
       "Marco         16397\n",
       "Easley        14715\n",
       "Lassen         9587\n",
       "Arches         8890\n",
       "Florence       8562\n",
       "Sequoia        7444\n",
       "Neptune        7276\n",
       "Olympic        4954\n",
       "Kings          2845\n",
       "Pinnacles      2158\n",
       "Hampton        1712\n",
       "Oberon         1672\n",
       "Quincy         1237\n",
       "Niagara         755\n",
       "Mammoth         691\n",
       "Glacier         598\n",
       "Joshua          302\n",
       "Ike             253\n",
       "Badlands         93\n",
       "Franklin         72\n",
       "Apollo            5\n",
       "Denali            4\n",
       "Everglades        1\n",
       "Name: name, dtype: int64"
      ]
     },
     "execution_count": 35,
     "metadata": {},
     "output_type": "execute_result"
    }
   ],
   "source": [
    "df.name.value_counts()"
   ]
  },
  {
   "cell_type": "markdown",
   "id": "929eea25-198b-447e-9cfe-90e8f8450233",
   "metadata": {},
   "source": [
    "- Nothing much to take away here\n",
    "- Null are those without `cohort_id`"
   ]
  },
  {
   "cell_type": "markdown",
   "id": "4a3cf103-6363-47e0-9f6d-7f09123dd1c1",
   "metadata": {},
   "source": [
    "---\n",
    "### `slack`"
   ]
  },
  {
   "cell_type": "code",
   "execution_count": 36,
   "id": "9f293bc9-3969-4bd9-bc53-3b6c6245f4fa",
   "metadata": {},
   "outputs": [
    {
     "data": {
      "text/plain": [
       "46"
      ]
     },
     "execution_count": 36,
     "metadata": {},
     "output_type": "execute_result"
    }
   ],
   "source": [
    "df.slack.nunique()"
   ]
  },
  {
   "cell_type": "code",
   "execution_count": 37,
   "id": "fb663022-a2be-4ffe-b3e7-c74c842de7f6",
   "metadata": {},
   "outputs": [
    {
     "data": {
      "text/plain": [
       "47"
      ]
     },
     "execution_count": 37,
     "metadata": {},
     "output_type": "execute_result"
    }
   ],
   "source": [
    "df.name.nunique()"
   ]
  },
  {
   "cell_type": "code",
   "execution_count": 38,
   "id": "9043cd7d-35a0-4eeb-8a37-9fa48a1d51ca",
   "metadata": {},
   "outputs": [
    {
     "data": {
      "text/plain": [
       "array(['#hampton', '#teddy', '#sequoia', '#arches', '#niagara',\n",
       "       '#pinnacles', '#quincy', nan, '#kings', '#lassen', '#mammoth',\n",
       "       '#glacier', '#denali', '#joshua', '#olympic', '#ulysses',\n",
       "       '#badlands', '#apollo', '#ike', '#voyageurs', '#wrangell',\n",
       "       '#xanadu', '#franklin', '#yosemite', '#', '#zion', '#andromeda',\n",
       "       '#betelgeuse', '#ceres', '#deimos', '#europa', '#fortuna',\n",
       "       '#curie', '#apex', '#ganymede', '#everglades', '#hyperion',\n",
       "       '#darden', '#bash', '#jupiter', '#kalypso', '#luna', '#easley',\n",
       "       '#marco', '#neptune', '#florence', '#oberon'], dtype=object)"
      ]
     },
     "execution_count": 38,
     "metadata": {},
     "output_type": "execute_result"
    }
   ],
   "source": [
    "df.slack.unique()"
   ]
  },
  {
   "cell_type": "code",
   "execution_count": 39,
   "id": "adec61bd-b985-4653-a0cd-c7502b20fcf2",
   "metadata": {},
   "outputs": [
    {
     "data": {
      "text/plain": [
       "array(['Hampton', 'Teddy', 'Sequoia', 'Arches', 'Niagara', 'Pinnacles',\n",
       "       'Quincy', nan, 'Kings', 'Lassen', 'Mammoth', 'Glacier', 'Denali',\n",
       "       'Joshua', 'Olympic', 'Ulysses', 'Badlands', 'Apollo', 'Ike',\n",
       "       'Voyageurs', 'Wrangell', 'Xanadu', 'Franklin', 'Yosemite', 'Staff',\n",
       "       'Zion', 'Andromeda', 'Betelgeuse', 'Ceres', 'Bayes', 'Deimos',\n",
       "       'Europa', 'Fortuna', 'Curie', 'Apex', 'Ganymede', 'Everglades',\n",
       "       'Hyperion', 'Darden', 'Bash', 'Jupiter', 'Kalypso', 'Luna',\n",
       "       'Easley', 'Marco', 'Neptune', 'Florence', 'Oberon'], dtype=object)"
      ]
     },
     "execution_count": 39,
     "metadata": {},
     "output_type": "execute_result"
    }
   ],
   "source": [
    "df.name.unique()"
   ]
  },
  {
   "cell_type": "markdown",
   "id": "c818b5a1-f727-49e2-8659-5b37691750a3",
   "metadata": {},
   "source": [
    "- Looks like there is one more cohort than there are slack channels\n",
    "    - The Bayes cohort appears to have used the `#` slack channel (the same one the instructor's use?)"
   ]
  },
  {
   "cell_type": "code",
   "execution_count": 40,
   "id": "b9c6faa7-bb0d-463b-a1d0-22966f08c5b8",
   "metadata": {},
   "outputs": [],
   "source": [
    "# we can drop this one as I don't think it will be too useful for our purposes here\n",
    "df = df.drop(columns='slack')"
   ]
  },
  {
   "cell_type": "markdown",
   "id": "1064ec98-c16d-4060-90a8-455b8a3ba1a3",
   "metadata": {},
   "source": [
    "---\n",
    "### `start_date` and `end_date`"
   ]
  },
  {
   "cell_type": "code",
   "execution_count": 41,
   "id": "e30ea890-2817-4d4f-8f9e-7286b98572f4",
   "metadata": {},
   "outputs": [
    {
     "data": {
      "text/html": [
       "<div>\n",
       "<style scoped>\n",
       "    .dataframe tbody tr th:only-of-type {\n",
       "        vertical-align: middle;\n",
       "    }\n",
       "\n",
       "    .dataframe tbody tr th {\n",
       "        vertical-align: top;\n",
       "    }\n",
       "\n",
       "    .dataframe thead th {\n",
       "        text-align: right;\n",
       "    }\n",
       "</style>\n",
       "<table border=\"1\" class=\"dataframe\">\n",
       "  <thead>\n",
       "    <tr style=\"text-align: right;\">\n",
       "      <th></th>\n",
       "      <th>path</th>\n",
       "      <th>user_id</th>\n",
       "      <th>ip</th>\n",
       "      <th>name</th>\n",
       "      <th>start_date</th>\n",
       "      <th>end_date</th>\n",
       "      <th>created_at</th>\n",
       "      <th>updated_at</th>\n",
       "      <th>deleted_at</th>\n",
       "      <th>program_id</th>\n",
       "    </tr>\n",
       "    <tr>\n",
       "      <th>date</th>\n",
       "      <th></th>\n",
       "      <th></th>\n",
       "      <th></th>\n",
       "      <th></th>\n",
       "      <th></th>\n",
       "      <th></th>\n",
       "      <th></th>\n",
       "      <th></th>\n",
       "      <th></th>\n",
       "      <th></th>\n",
       "    </tr>\n",
       "  </thead>\n",
       "  <tbody>\n",
       "    <tr>\n",
       "      <th>2018-01-26 09:55:03</th>\n",
       "      <td>/</td>\n",
       "      <td>1</td>\n",
       "      <td>97.105.19.61</td>\n",
       "      <td>Hampton</td>\n",
       "      <td>2015-09-22</td>\n",
       "      <td>2016-02-06</td>\n",
       "      <td>2016-06-14 19:52:26</td>\n",
       "      <td>2016-06-14 19:52:26</td>\n",
       "      <td>NaN</td>\n",
       "      <td>1.0</td>\n",
       "    </tr>\n",
       "    <tr>\n",
       "      <th>2018-01-26 09:56:02</th>\n",
       "      <td>java-ii</td>\n",
       "      <td>1</td>\n",
       "      <td>97.105.19.61</td>\n",
       "      <td>Hampton</td>\n",
       "      <td>2015-09-22</td>\n",
       "      <td>2016-02-06</td>\n",
       "      <td>2016-06-14 19:52:26</td>\n",
       "      <td>2016-06-14 19:52:26</td>\n",
       "      <td>NaN</td>\n",
       "      <td>1.0</td>\n",
       "    </tr>\n",
       "    <tr>\n",
       "      <th>2018-01-26 09:56:05</th>\n",
       "      <td>java-ii/object-oriented-programming</td>\n",
       "      <td>1</td>\n",
       "      <td>97.105.19.61</td>\n",
       "      <td>Hampton</td>\n",
       "      <td>2015-09-22</td>\n",
       "      <td>2016-02-06</td>\n",
       "      <td>2016-06-14 19:52:26</td>\n",
       "      <td>2016-06-14 19:52:26</td>\n",
       "      <td>NaN</td>\n",
       "      <td>1.0</td>\n",
       "    </tr>\n",
       "    <tr>\n",
       "      <th>2018-01-26 09:56:06</th>\n",
       "      <td>slides/object_oriented_programming</td>\n",
       "      <td>1</td>\n",
       "      <td>97.105.19.61</td>\n",
       "      <td>Hampton</td>\n",
       "      <td>2015-09-22</td>\n",
       "      <td>2016-02-06</td>\n",
       "      <td>2016-06-14 19:52:26</td>\n",
       "      <td>2016-06-14 19:52:26</td>\n",
       "      <td>NaN</td>\n",
       "      <td>1.0</td>\n",
       "    </tr>\n",
       "    <tr>\n",
       "      <th>2018-01-26 09:56:24</th>\n",
       "      <td>javascript-i/conditionals</td>\n",
       "      <td>2</td>\n",
       "      <td>97.105.19.61</td>\n",
       "      <td>Teddy</td>\n",
       "      <td>2018-01-08</td>\n",
       "      <td>2018-05-17</td>\n",
       "      <td>2018-01-08 13:59:10</td>\n",
       "      <td>2018-01-08 13:59:10</td>\n",
       "      <td>NaN</td>\n",
       "      <td>2.0</td>\n",
       "    </tr>\n",
       "  </tbody>\n",
       "</table>\n",
       "</div>"
      ],
      "text/plain": [
       "                                                    path  user_id  \\\n",
       "date                                                                \n",
       "2018-01-26 09:55:03                                    /        1   \n",
       "2018-01-26 09:56:02                              java-ii        1   \n",
       "2018-01-26 09:56:05  java-ii/object-oriented-programming        1   \n",
       "2018-01-26 09:56:06   slides/object_oriented_programming        1   \n",
       "2018-01-26 09:56:24            javascript-i/conditionals        2   \n",
       "\n",
       "                               ip     name  start_date    end_date  \\\n",
       "date                                                                 \n",
       "2018-01-26 09:55:03  97.105.19.61  Hampton  2015-09-22  2016-02-06   \n",
       "2018-01-26 09:56:02  97.105.19.61  Hampton  2015-09-22  2016-02-06   \n",
       "2018-01-26 09:56:05  97.105.19.61  Hampton  2015-09-22  2016-02-06   \n",
       "2018-01-26 09:56:06  97.105.19.61  Hampton  2015-09-22  2016-02-06   \n",
       "2018-01-26 09:56:24  97.105.19.61    Teddy  2018-01-08  2018-05-17   \n",
       "\n",
       "                              created_at           updated_at  deleted_at  \\\n",
       "date                                                                        \n",
       "2018-01-26 09:55:03  2016-06-14 19:52:26  2016-06-14 19:52:26         NaN   \n",
       "2018-01-26 09:56:02  2016-06-14 19:52:26  2016-06-14 19:52:26         NaN   \n",
       "2018-01-26 09:56:05  2016-06-14 19:52:26  2016-06-14 19:52:26         NaN   \n",
       "2018-01-26 09:56:06  2016-06-14 19:52:26  2016-06-14 19:52:26         NaN   \n",
       "2018-01-26 09:56:24  2018-01-08 13:59:10  2018-01-08 13:59:10         NaN   \n",
       "\n",
       "                     program_id  \n",
       "date                             \n",
       "2018-01-26 09:55:03         1.0  \n",
       "2018-01-26 09:56:02         1.0  \n",
       "2018-01-26 09:56:05         1.0  \n",
       "2018-01-26 09:56:06         1.0  \n",
       "2018-01-26 09:56:24         2.0  "
      ]
     },
     "execution_count": 41,
     "metadata": {},
     "output_type": "execute_result"
    }
   ],
   "source": [
    "df.head()"
   ]
  },
  {
   "cell_type": "code",
   "execution_count": 42,
   "id": "448d877e-d348-4039-b0b9-20a00be0cbe3",
   "metadata": {},
   "outputs": [],
   "source": [
    "# convert to datetime\n",
    "df.start_date = pd.to_datetime(df.start_date)\n",
    "df.end_date = pd.to_datetime(df.end_date)"
   ]
  },
  {
   "cell_type": "code",
   "execution_count": 43,
   "id": "a56c927a-d94c-4410-ba9b-2eda7ab9b2f2",
   "metadata": {},
   "outputs": [
    {
     "data": {
      "text/plain": [
       "Timestamp('2014-02-04 00:00:00')"
      ]
     },
     "execution_count": 43,
     "metadata": {},
     "output_type": "execute_result"
    }
   ],
   "source": [
    "df.start_date.min()"
   ]
  },
  {
   "cell_type": "code",
   "execution_count": 44,
   "id": "ca8f3d8c-d62b-46e7-9a75-53a484680f97",
   "metadata": {},
   "outputs": [
    {
     "data": {
      "text/plain": [
       "Timestamp('2021-04-12 00:00:00')"
      ]
     },
     "execution_count": 44,
     "metadata": {},
     "output_type": "execute_result"
    }
   ],
   "source": [
    "df.start_date.max()"
   ]
  },
  {
   "cell_type": "code",
   "execution_count": 45,
   "id": "353470ae-e6b1-492b-8a57-a6ab652df7c7",
   "metadata": {},
   "outputs": [
    {
     "data": {
      "text/plain": [
       "Timestamp('2014-02-04 00:00:00')"
      ]
     },
     "execution_count": 45,
     "metadata": {},
     "output_type": "execute_result"
    }
   ],
   "source": [
    "df.end_date.min()"
   ]
  },
  {
   "cell_type": "code",
   "execution_count": 46,
   "id": "d8c5ec22-ef1a-4882-aa76-59638d1c81e3",
   "metadata": {},
   "outputs": [
    {
     "data": {
      "text/plain": [
       "Timestamp('2021-10-01 00:00:00')"
      ]
     },
     "execution_count": 46,
     "metadata": {},
     "output_type": "execute_result"
    }
   ],
   "source": [
    "df.end_date.max()"
   ]
  },
  {
   "cell_type": "markdown",
   "id": "2281cd2a-835e-4698-afe8-d7eee30f684a",
   "metadata": {},
   "source": [
    "- these columns will be useful when comparing activity to time in program"
   ]
  },
  {
   "cell_type": "markdown",
   "id": "62bbb5de-ed13-4c2e-a21b-b799d5e0d287",
   "metadata": {},
   "source": [
    "---\n",
    "### `created_at` and `updated_at`"
   ]
  },
  {
   "cell_type": "code",
   "execution_count": 47,
   "id": "f5d74747-a4c8-4c55-9ee5-b0b30848de2c",
   "metadata": {},
   "outputs": [
    {
     "name": "stdout",
     "output_type": "stream",
     "text": [
      "<class 'pandas.core.frame.DataFrame'>\n",
      "DatetimeIndex: 900223 entries, 2018-01-26 09:55:03 to 2021-04-21 16:44:39\n",
      "Data columns (total 10 columns):\n",
      " #   Column      Non-Null Count   Dtype         \n",
      "---  ------      --------------   -----         \n",
      " 0   path        900222 non-null  object        \n",
      " 1   user_id     900223 non-null  int64         \n",
      " 2   ip          900223 non-null  object        \n",
      " 3   name        847330 non-null  object        \n",
      " 4   start_date  847330 non-null  datetime64[ns]\n",
      " 5   end_date    847330 non-null  datetime64[ns]\n",
      " 6   created_at  847330 non-null  object        \n",
      " 7   updated_at  847330 non-null  object        \n",
      " 8   deleted_at  0 non-null       float64       \n",
      " 9   program_id  847330 non-null  float64       \n",
      "dtypes: datetime64[ns](2), float64(2), int64(1), object(5)\n",
      "memory usage: 75.5+ MB\n"
     ]
    }
   ],
   "source": [
    "df.info()"
   ]
  },
  {
   "cell_type": "code",
   "execution_count": 48,
   "id": "fa6c934c-133e-41c6-828d-632afa32dedc",
   "metadata": {},
   "outputs": [],
   "source": [
    "# convert to datetime\n",
    "df.created_at = pd.to_datetime(df.created_at)\n",
    "df.updated_at = pd.to_datetime(df.updated_at)"
   ]
  },
  {
   "cell_type": "code",
   "execution_count": 49,
   "id": "4b271d78-502d-4c97-a750-3d01209a344f",
   "metadata": {},
   "outputs": [
    {
     "data": {
      "text/plain": [
       "name\n",
       "Apex       33568\n",
       "Bash       17713\n",
       "Niagara      755\n",
       "Name: path, dtype: int64"
      ]
     },
     "execution_count": 49,
     "metadata": {},
     "output_type": "execute_result"
    }
   ],
   "source": [
    "df[(df.created_at != df.updated_at) & (df.name.isna() == False)].groupby('name').path.count()"
   ]
  },
  {
   "cell_type": "markdown",
   "id": "b046fc99-ff1d-4b5b-8f69-6fbfc33932d9",
   "metadata": {},
   "source": [
    "- Most cohort info was not ever updated, but 3 cohorts were updated for one reason or another\n",
    "    - Why were these the only three that were updated? What exactly was updated?"
   ]
  },
  {
   "cell_type": "markdown",
   "id": "cfc5ada0-2928-407a-80cd-e25436e8e0ee",
   "metadata": {},
   "source": [
    "---\n",
    "### `deleted_at`"
   ]
  },
  {
   "cell_type": "code",
   "execution_count": 50,
   "id": "6624ed10-ccd3-4a0d-8347-7fc6dd5431aa",
   "metadata": {},
   "outputs": [
    {
     "data": {
      "text/plain": [
       "Series([], Name: deleted_at, dtype: int64)"
      ]
     },
     "execution_count": 50,
     "metadata": {},
     "output_type": "execute_result"
    }
   ],
   "source": [
    "df.deleted_at.value_counts()"
   ]
  },
  {
   "cell_type": "code",
   "execution_count": 51,
   "id": "38b5e61b-f728-40f4-b361-b9ca93959192",
   "metadata": {},
   "outputs": [
    {
     "data": {
      "text/plain": [
       "900223"
      ]
     },
     "execution_count": 51,
     "metadata": {},
     "output_type": "execute_result"
    }
   ],
   "source": [
    "df.deleted_at.isna().sum()"
   ]
  },
  {
   "cell_type": "code",
   "execution_count": 52,
   "id": "cbd47b1e-dbb1-497c-bbb8-d4ba183f65c9",
   "metadata": {},
   "outputs": [
    {
     "data": {
      "text/plain": [
       "(900223, 10)"
      ]
     },
     "execution_count": 52,
     "metadata": {},
     "output_type": "execute_result"
    }
   ],
   "source": [
    "df.shape"
   ]
  },
  {
   "cell_type": "markdown",
   "id": "439d0fd7-9ecd-4815-8185-06575b41a1a3",
   "metadata": {},
   "source": [
    "- All are empty, can be dropped"
   ]
  },
  {
   "cell_type": "code",
   "execution_count": 53,
   "id": "98c0c28f-085d-4963-a5b3-9028b0afbe6d",
   "metadata": {},
   "outputs": [],
   "source": [
    "df = df.drop(columns='deleted_at')"
   ]
  },
  {
   "cell_type": "code",
   "execution_count": 54,
   "id": "cfa4f8b9-da6a-4f17-bb03-07e346cbd13a",
   "metadata": {},
   "outputs": [
    {
     "data": {
      "text/html": [
       "<div>\n",
       "<style scoped>\n",
       "    .dataframe tbody tr th:only-of-type {\n",
       "        vertical-align: middle;\n",
       "    }\n",
       "\n",
       "    .dataframe tbody tr th {\n",
       "        vertical-align: top;\n",
       "    }\n",
       "\n",
       "    .dataframe thead th {\n",
       "        text-align: right;\n",
       "    }\n",
       "</style>\n",
       "<table border=\"1\" class=\"dataframe\">\n",
       "  <thead>\n",
       "    <tr style=\"text-align: right;\">\n",
       "      <th></th>\n",
       "      <th>path</th>\n",
       "      <th>user_id</th>\n",
       "      <th>ip</th>\n",
       "      <th>name</th>\n",
       "      <th>start_date</th>\n",
       "      <th>end_date</th>\n",
       "      <th>created_at</th>\n",
       "      <th>updated_at</th>\n",
       "      <th>program_id</th>\n",
       "    </tr>\n",
       "    <tr>\n",
       "      <th>date</th>\n",
       "      <th></th>\n",
       "      <th></th>\n",
       "      <th></th>\n",
       "      <th></th>\n",
       "      <th></th>\n",
       "      <th></th>\n",
       "      <th></th>\n",
       "      <th></th>\n",
       "      <th></th>\n",
       "    </tr>\n",
       "  </thead>\n",
       "  <tbody>\n",
       "    <tr>\n",
       "      <th>2018-01-26 09:55:03</th>\n",
       "      <td>/</td>\n",
       "      <td>1</td>\n",
       "      <td>97.105.19.61</td>\n",
       "      <td>Hampton</td>\n",
       "      <td>2015-09-22</td>\n",
       "      <td>2016-02-06</td>\n",
       "      <td>2016-06-14 19:52:26</td>\n",
       "      <td>2016-06-14 19:52:26</td>\n",
       "      <td>1.0</td>\n",
       "    </tr>\n",
       "    <tr>\n",
       "      <th>2018-01-26 09:56:02</th>\n",
       "      <td>java-ii</td>\n",
       "      <td>1</td>\n",
       "      <td>97.105.19.61</td>\n",
       "      <td>Hampton</td>\n",
       "      <td>2015-09-22</td>\n",
       "      <td>2016-02-06</td>\n",
       "      <td>2016-06-14 19:52:26</td>\n",
       "      <td>2016-06-14 19:52:26</td>\n",
       "      <td>1.0</td>\n",
       "    </tr>\n",
       "    <tr>\n",
       "      <th>2018-01-26 09:56:05</th>\n",
       "      <td>java-ii/object-oriented-programming</td>\n",
       "      <td>1</td>\n",
       "      <td>97.105.19.61</td>\n",
       "      <td>Hampton</td>\n",
       "      <td>2015-09-22</td>\n",
       "      <td>2016-02-06</td>\n",
       "      <td>2016-06-14 19:52:26</td>\n",
       "      <td>2016-06-14 19:52:26</td>\n",
       "      <td>1.0</td>\n",
       "    </tr>\n",
       "    <tr>\n",
       "      <th>2018-01-26 09:56:06</th>\n",
       "      <td>slides/object_oriented_programming</td>\n",
       "      <td>1</td>\n",
       "      <td>97.105.19.61</td>\n",
       "      <td>Hampton</td>\n",
       "      <td>2015-09-22</td>\n",
       "      <td>2016-02-06</td>\n",
       "      <td>2016-06-14 19:52:26</td>\n",
       "      <td>2016-06-14 19:52:26</td>\n",
       "      <td>1.0</td>\n",
       "    </tr>\n",
       "    <tr>\n",
       "      <th>2018-01-26 09:56:24</th>\n",
       "      <td>javascript-i/conditionals</td>\n",
       "      <td>2</td>\n",
       "      <td>97.105.19.61</td>\n",
       "      <td>Teddy</td>\n",
       "      <td>2018-01-08</td>\n",
       "      <td>2018-05-17</td>\n",
       "      <td>2018-01-08 13:59:10</td>\n",
       "      <td>2018-01-08 13:59:10</td>\n",
       "      <td>2.0</td>\n",
       "    </tr>\n",
       "  </tbody>\n",
       "</table>\n",
       "</div>"
      ],
      "text/plain": [
       "                                                    path  user_id  \\\n",
       "date                                                                \n",
       "2018-01-26 09:55:03                                    /        1   \n",
       "2018-01-26 09:56:02                              java-ii        1   \n",
       "2018-01-26 09:56:05  java-ii/object-oriented-programming        1   \n",
       "2018-01-26 09:56:06   slides/object_oriented_programming        1   \n",
       "2018-01-26 09:56:24            javascript-i/conditionals        2   \n",
       "\n",
       "                               ip     name start_date   end_date  \\\n",
       "date                                                               \n",
       "2018-01-26 09:55:03  97.105.19.61  Hampton 2015-09-22 2016-02-06   \n",
       "2018-01-26 09:56:02  97.105.19.61  Hampton 2015-09-22 2016-02-06   \n",
       "2018-01-26 09:56:05  97.105.19.61  Hampton 2015-09-22 2016-02-06   \n",
       "2018-01-26 09:56:06  97.105.19.61  Hampton 2015-09-22 2016-02-06   \n",
       "2018-01-26 09:56:24  97.105.19.61    Teddy 2018-01-08 2018-05-17   \n",
       "\n",
       "                             created_at          updated_at  program_id  \n",
       "date                                                                     \n",
       "2018-01-26 09:55:03 2016-06-14 19:52:26 2016-06-14 19:52:26         1.0  \n",
       "2018-01-26 09:56:02 2016-06-14 19:52:26 2016-06-14 19:52:26         1.0  \n",
       "2018-01-26 09:56:05 2016-06-14 19:52:26 2016-06-14 19:52:26         1.0  \n",
       "2018-01-26 09:56:06 2016-06-14 19:52:26 2016-06-14 19:52:26         1.0  \n",
       "2018-01-26 09:56:24 2018-01-08 13:59:10 2018-01-08 13:59:10         2.0  "
      ]
     },
     "execution_count": 54,
     "metadata": {},
     "output_type": "execute_result"
    }
   ],
   "source": [
    "df.head()"
   ]
  },
  {
   "cell_type": "markdown",
   "id": "f9e98242-a9ef-463b-9d50-017758e5da08",
   "metadata": {},
   "source": [
    "---\n",
    "### `program_id`"
   ]
  },
  {
   "cell_type": "code",
   "execution_count": 55,
   "id": "11e336a8-3a32-4e27-b1b8-664c3f6eb805",
   "metadata": {},
   "outputs": [
    {
     "name": "stdout",
     "output_type": "stream",
     "text": [
      "<class 'pandas.core.frame.DataFrame'>\n",
      "DatetimeIndex: 900223 entries, 2018-01-26 09:55:03 to 2021-04-21 16:44:39\n",
      "Data columns (total 9 columns):\n",
      " #   Column      Non-Null Count   Dtype         \n",
      "---  ------      --------------   -----         \n",
      " 0   path        900222 non-null  object        \n",
      " 1   user_id     900223 non-null  int64         \n",
      " 2   ip          900223 non-null  object        \n",
      " 3   name        847330 non-null  object        \n",
      " 4   start_date  847330 non-null  datetime64[ns]\n",
      " 5   end_date    847330 non-null  datetime64[ns]\n",
      " 6   created_at  847330 non-null  datetime64[ns]\n",
      " 7   updated_at  847330 non-null  datetime64[ns]\n",
      " 8   program_id  847330 non-null  float64       \n",
      "dtypes: datetime64[ns](4), float64(1), int64(1), object(3)\n",
      "memory usage: 68.7+ MB\n"
     ]
    }
   ],
   "source": [
    "df.info()"
   ]
  },
  {
   "cell_type": "code",
   "execution_count": 56,
   "id": "3052d796-a063-4048-a997-cf0c0d64da4b",
   "metadata": {},
   "outputs": [
    {
     "data": {
      "text/plain": [
       "2.0    713365\n",
       "3.0    103412\n",
       "1.0     30548\n",
       "4.0         5\n",
       "Name: program_id, dtype: int64"
      ]
     },
     "execution_count": 56,
     "metadata": {},
     "output_type": "execute_result"
    }
   ],
   "source": [
    "df.program_id.value_counts()"
   ]
  },
  {
   "attachments": {
    "24fd206a-cb07-4d85-ac16-fef30a178b1c.png": {
     "image/png": "[encoded data removed]"
    }
   },
   "cell_type": "markdown",
   "id": "57c3ec8e-fc92-4bfc-a1b2-8d09dd9b608e",
   "metadata": {},
   "source": [
    "![image.png](attachment:24fd206a-cb07-4d85-ac16-fef30a178b1c.png)"
   ]
  },
  {
   "cell_type": "code",
   "execution_count": 57,
   "id": "ba43a970-68a5-49d9-9ee9-7f7f2da56c1e",
   "metadata": {},
   "outputs": [],
   "source": [
    "# let's try using mapping and a dictionary instead\n",
    "program_dict = {\n",
    "    1 : 'Web Dev - PHP',\n",
    "    2 : 'Web Dev - Java',\n",
    "    3 : 'Data Science',\n",
    "    4 : 'Web Dev - Front End'\n",
    "}"
   ]
  },
  {
   "cell_type": "code",
   "execution_count": 58,
   "id": "4c83be47-f161-4282-b517-4db2e70409c8",
   "metadata": {},
   "outputs": [],
   "source": [
    "df['program'] = df.program_id.map(program_dict)"
   ]
  },
  {
   "cell_type": "code",
   "execution_count": 59,
   "id": "b087d3ec-4eb2-4265-969d-0f757d860674",
   "metadata": {},
   "outputs": [
    {
     "data": {
      "text/plain": [
       "Web Dev - Java         713365\n",
       "Data Science           103412\n",
       "Web Dev - PHP           30548\n",
       "Web Dev - Front End         5\n",
       "Name: program, dtype: int64"
      ]
     },
     "execution_count": 59,
     "metadata": {},
     "output_type": "execute_result"
    }
   ],
   "source": [
    "df.program.value_counts()"
   ]
  },
  {
   "cell_type": "code",
   "execution_count": 60,
   "id": "16082c0f-7669-47b9-b884-acb24b10679d",
   "metadata": {},
   "outputs": [],
   "source": [
    "# we can now drop the program_id column\n",
    "df = df.drop(columns='program_id')"
   ]
  },
  {
   "cell_type": "code",
   "execution_count": 61,
   "id": "70c72339-83d3-49d1-b2fa-9c87f5e2cdd4",
   "metadata": {},
   "outputs": [
    {
     "data": {
      "text/html": [
       "<div>\n",
       "<style scoped>\n",
       "    .dataframe tbody tr th:only-of-type {\n",
       "        vertical-align: middle;\n",
       "    }\n",
       "\n",
       "    .dataframe tbody tr th {\n",
       "        vertical-align: top;\n",
       "    }\n",
       "\n",
       "    .dataframe thead th {\n",
       "        text-align: right;\n",
       "    }\n",
       "</style>\n",
       "<table border=\"1\" class=\"dataframe\">\n",
       "  <thead>\n",
       "    <tr style=\"text-align: right;\">\n",
       "      <th></th>\n",
       "      <th>path</th>\n",
       "      <th>user_id</th>\n",
       "      <th>ip</th>\n",
       "      <th>name</th>\n",
       "      <th>start_date</th>\n",
       "      <th>end_date</th>\n",
       "      <th>created_at</th>\n",
       "      <th>updated_at</th>\n",
       "      <th>program</th>\n",
       "    </tr>\n",
       "    <tr>\n",
       "      <th>date</th>\n",
       "      <th></th>\n",
       "      <th></th>\n",
       "      <th></th>\n",
       "      <th></th>\n",
       "      <th></th>\n",
       "      <th></th>\n",
       "      <th></th>\n",
       "      <th></th>\n",
       "      <th></th>\n",
       "    </tr>\n",
       "  </thead>\n",
       "  <tbody>\n",
       "    <tr>\n",
       "      <th>2018-01-26 09:55:03</th>\n",
       "      <td>/</td>\n",
       "      <td>1</td>\n",
       "      <td>97.105.19.61</td>\n",
       "      <td>Hampton</td>\n",
       "      <td>2015-09-22</td>\n",
       "      <td>2016-02-06</td>\n",
       "      <td>2016-06-14 19:52:26</td>\n",
       "      <td>2016-06-14 19:52:26</td>\n",
       "      <td>Web Dev - PHP</td>\n",
       "    </tr>\n",
       "    <tr>\n",
       "      <th>2018-01-26 09:56:02</th>\n",
       "      <td>java-ii</td>\n",
       "      <td>1</td>\n",
       "      <td>97.105.19.61</td>\n",
       "      <td>Hampton</td>\n",
       "      <td>2015-09-22</td>\n",
       "      <td>2016-02-06</td>\n",
       "      <td>2016-06-14 19:52:26</td>\n",
       "      <td>2016-06-14 19:52:26</td>\n",
       "      <td>Web Dev - PHP</td>\n",
       "    </tr>\n",
       "    <tr>\n",
       "      <th>2018-01-26 09:56:05</th>\n",
       "      <td>java-ii/object-oriented-programming</td>\n",
       "      <td>1</td>\n",
       "      <td>97.105.19.61</td>\n",
       "      <td>Hampton</td>\n",
       "      <td>2015-09-22</td>\n",
       "      <td>2016-02-06</td>\n",
       "      <td>2016-06-14 19:52:26</td>\n",
       "      <td>2016-06-14 19:52:26</td>\n",
       "      <td>Web Dev - PHP</td>\n",
       "    </tr>\n",
       "    <tr>\n",
       "      <th>2018-01-26 09:56:06</th>\n",
       "      <td>slides/object_oriented_programming</td>\n",
       "      <td>1</td>\n",
       "      <td>97.105.19.61</td>\n",
       "      <td>Hampton</td>\n",
       "      <td>2015-09-22</td>\n",
       "      <td>2016-02-06</td>\n",
       "      <td>2016-06-14 19:52:26</td>\n",
       "      <td>2016-06-14 19:52:26</td>\n",
       "      <td>Web Dev - PHP</td>\n",
       "    </tr>\n",
       "    <tr>\n",
       "      <th>2018-01-26 09:56:24</th>\n",
       "      <td>javascript-i/conditionals</td>\n",
       "      <td>2</td>\n",
       "      <td>97.105.19.61</td>\n",
       "      <td>Teddy</td>\n",
       "      <td>2018-01-08</td>\n",
       "      <td>2018-05-17</td>\n",
       "      <td>2018-01-08 13:59:10</td>\n",
       "      <td>2018-01-08 13:59:10</td>\n",
       "      <td>Web Dev - Java</td>\n",
       "    </tr>\n",
       "  </tbody>\n",
       "</table>\n",
       "</div>"
      ],
      "text/plain": [
       "                                                    path  user_id  \\\n",
       "date                                                                \n",
       "2018-01-26 09:55:03                                    /        1   \n",
       "2018-01-26 09:56:02                              java-ii        1   \n",
       "2018-01-26 09:56:05  java-ii/object-oriented-programming        1   \n",
       "2018-01-26 09:56:06   slides/object_oriented_programming        1   \n",
       "2018-01-26 09:56:24            javascript-i/conditionals        2   \n",
       "\n",
       "                               ip     name start_date   end_date  \\\n",
       "date                                                               \n",
       "2018-01-26 09:55:03  97.105.19.61  Hampton 2015-09-22 2016-02-06   \n",
       "2018-01-26 09:56:02  97.105.19.61  Hampton 2015-09-22 2016-02-06   \n",
       "2018-01-26 09:56:05  97.105.19.61  Hampton 2015-09-22 2016-02-06   \n",
       "2018-01-26 09:56:06  97.105.19.61  Hampton 2015-09-22 2016-02-06   \n",
       "2018-01-26 09:56:24  97.105.19.61    Teddy 2018-01-08 2018-05-17   \n",
       "\n",
       "                             created_at          updated_at         program  \n",
       "date                                                                         \n",
       "2018-01-26 09:55:03 2016-06-14 19:52:26 2016-06-14 19:52:26   Web Dev - PHP  \n",
       "2018-01-26 09:56:02 2016-06-14 19:52:26 2016-06-14 19:52:26   Web Dev - PHP  \n",
       "2018-01-26 09:56:05 2016-06-14 19:52:26 2016-06-14 19:52:26   Web Dev - PHP  \n",
       "2018-01-26 09:56:06 2016-06-14 19:52:26 2016-06-14 19:52:26   Web Dev - PHP  \n",
       "2018-01-26 09:56:24 2018-01-08 13:59:10 2018-01-08 13:59:10  Web Dev - Java  "
      ]
     },
     "execution_count": 61,
     "metadata": {},
     "output_type": "execute_result"
    }
   ],
   "source": [
    "df.head()"
   ]
  },
  {
   "cell_type": "code",
   "execution_count": 62,
   "id": "8012eb7f-69e6-4aec-8664-06f3b11481dd",
   "metadata": {},
   "outputs": [
    {
     "name": "stdout",
     "output_type": "stream",
     "text": [
      "<class 'pandas.core.frame.DataFrame'>\n",
      "DatetimeIndex: 900223 entries, 2018-01-26 09:55:03 to 2021-04-21 16:44:39\n",
      "Data columns (total 9 columns):\n",
      " #   Column      Non-Null Count   Dtype         \n",
      "---  ------      --------------   -----         \n",
      " 0   path        900222 non-null  object        \n",
      " 1   user_id     900223 non-null  int64         \n",
      " 2   ip          900223 non-null  object        \n",
      " 3   name        847330 non-null  object        \n",
      " 4   start_date  847330 non-null  datetime64[ns]\n",
      " 5   end_date    847330 non-null  datetime64[ns]\n",
      " 6   created_at  847330 non-null  datetime64[ns]\n",
      " 7   updated_at  847330 non-null  datetime64[ns]\n",
      " 8   program     847330 non-null  object        \n",
      "dtypes: datetime64[ns](4), int64(1), object(4)\n",
      "memory usage: 68.7+ MB\n"
     ]
    }
   ],
   "source": [
    "df.info()"
   ]
  },
  {
   "cell_type": "markdown",
   "id": "b66cc184-c078-470e-9cf2-6aab99abfe49",
   "metadata": {},
   "source": [
    "### Compile into prepare script"
   ]
  },
  {
   "cell_type": "markdown",
   "id": "efa2e6c7-6a44-4fb2-ac16-9637fb0a7036",
   "metadata": {},
   "source": [
    "- See `prepare.py` file    "
   ]
  },
  {
   "cell_type": "code",
   "execution_count": 71,
   "id": "104527ab-207f-40cc-aa03-c059d60b846a",
   "metadata": {},
   "outputs": [],
   "source": [
    "df = a.get_log_data()"
   ]
  },
  {
   "cell_type": "code",
   "execution_count": 72,
   "id": "0545d76e-2592-46d9-83ab-a8ee79d8aeb1",
   "metadata": {},
   "outputs": [],
   "source": [
    "df = p.prep_log(df)"
   ]
  },
  {
   "cell_type": "code",
   "execution_count": null,
   "id": "d67d98bd-1f2b-407b-b872-5300866fefa3",
   "metadata": {},
   "outputs": [],
   "source": []
  }
 ],
 "metadata": {
  "kernelspec": {
   "display_name": "Python 3",
   "language": "python",
   "name": "python3"
  },
  "language_info": {
   "codemirror_mode": {
    "name": "ipython",
    "version": 3
   },
   "file_extension": ".py",
   "mimetype": "text/x-python",
   "name": "python",
   "nbconvert_exporter": "python",
   "pygments_lexer": "ipython3",
   "version": "3.8.8"
  }
 },
 "nbformat": 4,
 "nbformat_minor": 5
}
